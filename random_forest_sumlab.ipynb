{
 "cells": [
  {
   "cell_type": "code",
   "execution_count": 1,
   "metadata": {},
   "outputs": [],
   "source": [
    "import pandas as pd\n",
    "import numpy as np\n",
    "import matplotlib.pyplot as plt\n",
    "import geohash"
   ]
  },
  {
   "cell_type": "code",
   "execution_count": 2,
   "metadata": {},
   "outputs": [
    {
     "data": {
      "text/html": [
       "<div>\n",
       "<style scoped>\n",
       "    .dataframe tbody tr th:only-of-type {\n",
       "        vertical-align: middle;\n",
       "    }\n",
       "\n",
       "    .dataframe tbody tr th {\n",
       "        vertical-align: top;\n",
       "    }\n",
       "\n",
       "    .dataframe thead th {\n",
       "        text-align: right;\n",
       "    }\n",
       "</style>\n",
       "<table border=\"1\" class=\"dataframe\">\n",
       "  <thead>\n",
       "    <tr style=\"text-align: right;\">\n",
       "      <th></th>\n",
       "      <th>year</th>\n",
       "      <th>month</th>\n",
       "      <th>day</th>\n",
       "      <th>time_cat</th>\n",
       "      <th>time_num</th>\n",
       "      <th>time_cos</th>\n",
       "      <th>time_sin</th>\n",
       "      <th>day_cat</th>\n",
       "      <th>day_num</th>\n",
       "      <th>day_cos</th>\n",
       "      <th>...</th>\n",
       "      <th>z_start</th>\n",
       "      <th>location_start</th>\n",
       "      <th>location_end</th>\n",
       "      <th>linea_org</th>\n",
       "      <th>tipo_usuario</th>\n",
       "      <th>ruta_org</th>\n",
       "      <th>viaje_org</th>\n",
       "      <th>coche_org</th>\n",
       "      <th>nodo_org</th>\n",
       "      <th>nodo_dest</th>\n",
       "    </tr>\n",
       "  </thead>\n",
       "  <tbody>\n",
       "    <tr>\n",
       "      <th>60694</th>\n",
       "      <td>2022</td>\n",
       "      <td>11</td>\n",
       "      <td>19</td>\n",
       "      <td>17.366666666666667:22.0</td>\n",
       "      <td>0.759722</td>\n",
       "      <td>0.061049</td>\n",
       "      <td>-0.998135</td>\n",
       "      <td>Saturday</td>\n",
       "      <td>0.822817</td>\n",
       "      <td>0.441730</td>\n",
       "      <td>...</td>\n",
       "      <td>-0.493900</td>\n",
       "      <td>eztr28sn</td>\n",
       "      <td>eztr0nfp</td>\n",
       "      <td>2</td>\n",
       "      <td>17</td>\n",
       "      <td>2</td>\n",
       "      <td>22</td>\n",
       "      <td>22</td>\n",
       "      <td>423</td>\n",
       "      <td>338</td>\n",
       "    </tr>\n",
       "    <tr>\n",
       "      <th>72801</th>\n",
       "      <td>2022</td>\n",
       "      <td>11</td>\n",
       "      <td>23</td>\n",
       "      <td>8.133333333333333:8.0</td>\n",
       "      <td>0.365278</td>\n",
       "      <td>-0.662620</td>\n",
       "      <td>0.748956</td>\n",
       "      <td>Wednesday</td>\n",
       "      <td>0.337897</td>\n",
       "      <td>-0.524623</td>\n",
       "      <td>...</td>\n",
       "      <td>-0.493624</td>\n",
       "      <td>eztr38u2</td>\n",
       "      <td>eztr28mx</td>\n",
       "      <td>1</td>\n",
       "      <td>72</td>\n",
       "      <td>1</td>\n",
       "      <td>2</td>\n",
       "      <td>2</td>\n",
       "      <td>261</td>\n",
       "      <td>155</td>\n",
       "    </tr>\n",
       "    <tr>\n",
       "      <th>37897</th>\n",
       "      <td>2022</td>\n",
       "      <td>11</td>\n",
       "      <td>15</td>\n",
       "      <td>7.166666666666667:10.0</td>\n",
       "      <td>0.326389</td>\n",
       "      <td>-0.461749</td>\n",
       "      <td>0.887011</td>\n",
       "      <td>Tuesday</td>\n",
       "      <td>0.189484</td>\n",
       "      <td>0.371136</td>\n",
       "      <td>...</td>\n",
       "      <td>-0.510044</td>\n",
       "      <td>eztr0m6c</td>\n",
       "      <td>eztr3056</td>\n",
       "      <td>8</td>\n",
       "      <td>12</td>\n",
       "      <td>1</td>\n",
       "      <td>2</td>\n",
       "      <td>2</td>\n",
       "      <td>305</td>\n",
       "      <td>43</td>\n",
       "    </tr>\n",
       "    <tr>\n",
       "      <th>92093</th>\n",
       "      <td>2022</td>\n",
       "      <td>11</td>\n",
       "      <td>27</td>\n",
       "      <td>12.633333333333333:38.0</td>\n",
       "      <td>0.573611</td>\n",
       "      <td>-0.894934</td>\n",
       "      <td>-0.446198</td>\n",
       "      <td>Sunday</td>\n",
       "      <td>0.939087</td>\n",
       "      <td>0.927650</td>\n",
       "      <td>...</td>\n",
       "      <td>-0.481999</td>\n",
       "      <td>eztr3g0t</td>\n",
       "      <td>eztr322c</td>\n",
       "      <td>2</td>\n",
       "      <td>1</td>\n",
       "      <td>2</td>\n",
       "      <td>6</td>\n",
       "      <td>6</td>\n",
       "      <td>511</td>\n",
       "      <td>12</td>\n",
       "    </tr>\n",
       "    <tr>\n",
       "      <th>8107</th>\n",
       "      <td>2022</td>\n",
       "      <td>11</td>\n",
       "      <td>8</td>\n",
       "      <td>10.516666666666667:31.0</td>\n",
       "      <td>0.480556</td>\n",
       "      <td>-0.992546</td>\n",
       "      <td>0.121869</td>\n",
       "      <td>Tuesday</td>\n",
       "      <td>0.211508</td>\n",
       "      <td>0.239502</td>\n",
       "      <td>...</td>\n",
       "      <td>-0.499378</td>\n",
       "      <td>eztr0ze9</td>\n",
       "      <td>eztr0ry9</td>\n",
       "      <td>8</td>\n",
       "      <td>2</td>\n",
       "      <td>2</td>\n",
       "      <td>5</td>\n",
       "      <td>5</td>\n",
       "      <td>45</td>\n",
       "      <td>3</td>\n",
       "    </tr>\n",
       "  </tbody>\n",
       "</table>\n",
       "<p>5 rows × 24 columns</p>\n",
       "</div>"
      ],
      "text/plain": [
       "       year  month  day                 time_cat  time_num  time_cos  \\\n",
       "60694  2022     11   19  17.366666666666667:22.0  0.759722  0.061049   \n",
       "72801  2022     11   23    8.133333333333333:8.0  0.365278 -0.662620   \n",
       "37897  2022     11   15   7.166666666666667:10.0  0.326389 -0.461749   \n",
       "92093  2022     11   27  12.633333333333333:38.0  0.573611 -0.894934   \n",
       "8107   2022     11    8  10.516666666666667:31.0  0.480556 -0.992546   \n",
       "\n",
       "       time_sin    day_cat   day_num   day_cos  ...   z_start  location_start  \\\n",
       "60694 -0.998135   Saturday  0.822817  0.441730  ... -0.493900        eztr28sn   \n",
       "72801  0.748956  Wednesday  0.337897 -0.524623  ... -0.493624        eztr38u2   \n",
       "37897  0.887011    Tuesday  0.189484  0.371136  ... -0.510044        eztr0m6c   \n",
       "92093 -0.446198     Sunday  0.939087  0.927650  ... -0.481999        eztr3g0t   \n",
       "8107   0.121869    Tuesday  0.211508  0.239502  ... -0.499378        eztr0ze9   \n",
       "\n",
       "       location_end  linea_org  tipo_usuario ruta_org viaje_org  coche_org  \\\n",
       "60694      eztr0nfp          2            17        2        22         22   \n",
       "72801      eztr28mx          1            72        1         2          2   \n",
       "37897      eztr3056          8            12        1         2          2   \n",
       "92093      eztr322c          2             1        2         6          6   \n",
       "8107       eztr0ry9          8             2        2         5          5   \n",
       "\n",
       "       nodo_org  nodo_dest  \n",
       "60694       423        338  \n",
       "72801       261        155  \n",
       "37897       305         43  \n",
       "92093       511         12  \n",
       "8107         45          3  \n",
       "\n",
       "[5 rows x 24 columns]"
      ]
     },
     "execution_count": 2,
     "metadata": {},
     "output_type": "execute_result"
    }
   ],
   "source": [
    "featuredDataset = pd.read_csv('featured-dataset.csv').sample(5000)\n",
    "featuredDataset = featuredDataset.drop(featuredDataset.columns[0], axis=1)\n",
    "featuredDataset.head(5)"
   ]
  },
  {
   "cell_type": "code",
   "execution_count": 3,
   "metadata": {},
   "outputs": [
    {
     "data": {
      "text/plain": [
       "(5000, 24)"
      ]
     },
     "execution_count": 3,
     "metadata": {},
     "output_type": "execute_result"
    }
   ],
   "source": [
    "featuredDataset.shape"
   ]
  },
  {
   "cell_type": "markdown",
   "metadata": {},
   "source": [
    "### Feature extraction"
   ]
  },
  {
   "cell_type": "code",
   "execution_count": 4,
   "metadata": {},
   "outputs": [],
   "source": [
    "\n",
    "# Get the longitude and latitude from the geohash\n",
    "def decodegeo(geo, which):\n",
    "    if len(geo) >= 6:\n",
    "        geodecoded = geohash.decode(geo)\n",
    "        return geodecoded[which]\n",
    "    else:\n",
    "        return 0\n",
    "    \n",
    "def further_data_prep(df):  \n",
    "\n",
    "    df['start_lat'] = df['location_start'].apply(lambda geo: decodegeo(geo, 0))\n",
    "    df['start_lon'] = df['location_start'].apply(lambda geo: decodegeo(geo, 1))\n",
    "    df['end_lat'] = df['location_end'].apply(lambda geo: decodegeo(geo, 0))\n",
    "    df['end_lon'] = df['location_end'].apply(lambda geo: decodegeo(geo, 1))\n",
    "    \n",
    "    return df"
   ]
  },
  {
   "cell_type": "code",
   "execution_count": 5,
   "metadata": {},
   "outputs": [
    {
     "data": {
      "text/plain": [
       "Index(['year', 'month', 'day', 'time_cat', 'time_num', 'time_cos', 'time_sin',\n",
       "       'day_cat', 'day_num', 'day_cos', 'day_sin', 'weekend', 'x_start',\n",
       "       'y_start', 'z_start', 'location_start', 'location_end', 'linea_org',\n",
       "       'tipo_usuario', 'ruta_org', 'viaje_org', 'coche_org', 'nodo_org',\n",
       "       'nodo_dest', 'start_lat', 'start_lon', 'end_lat', 'end_lon'],\n",
       "      dtype='object')"
      ]
     },
     "execution_count": 5,
     "metadata": {},
     "output_type": "execute_result"
    }
   ],
   "source": [
    "featuredDataset = further_data_prep(featuredDataset)\n",
    "featuredDataset.head(5)\n",
    "featuredDataset.columns"
   ]
  },
  {
   "cell_type": "markdown",
   "metadata": {},
   "source": [
    "### Train-test split\n",
    "For Cross Validation, we split the data into 80% train set and 20% test set."
   ]
  },
  {
   "cell_type": "code",
   "execution_count": 6,
   "metadata": {},
   "outputs": [],
   "source": [
    "columns_all_features = featuredDataset.columns\n",
    "columns_X = ['day_num', 'x_start', 'y_start', 'z_start','linea_org','tipo_usuario','viaje_org', 'coche_org','ruta_org','time_num']\n",
    "columns_y = ['end_lat', 'end_lon']\n",
    "X = featuredDataset[columns_X]\n",
    "y = featuredDataset[columns_y]"
   ]
  },
  {
   "cell_type": "code",
   "execution_count": 7,
   "metadata": {},
   "outputs": [],
   "source": [
    "from sklearn.model_selection import train_test_split\n",
    "X_train, X_test, y_train, y_test = train_test_split(X, y, test_size=0.2, random_state=42)"
   ]
  },
  {
   "cell_type": "code",
   "execution_count": 8,
   "metadata": {},
   "outputs": [
    {
     "name": "stdout",
     "output_type": "stream",
     "text": [
      "X: (5000, 10)\n",
      "y: (5000, 2)\n",
      "X_train: (4000, 10)\n",
      "y_train: (4000, 2)\n",
      "X_test: (1000, 10)\n",
      "y_test: (1000, 2)\n"
     ]
    }
   ],
   "source": [
    "print ('X: ({}, {})'.format(*X.shape))\n",
    "print ('y: ({}, {})'.format(*y.shape))\n",
    "print ('X_train: ({}, {})'.format(*X_train.shape))\n",
    "print ('y_train: ({}, {})'.format(*y_train.shape))\n",
    "print ('X_test: ({}, {})'.format(*X_test.shape))\n",
    "print ('y_test: ({}, {})'.format(*y_test.shape))"
   ]
  },
  {
   "cell_type": "markdown",
   "metadata": {},
   "source": [
    "### Machine Learning"
   ]
  },
  {
   "cell_type": "code",
   "execution_count": 9,
   "metadata": {},
   "outputs": [],
   "source": [
    "from sklearn.ensemble import RandomForestRegressor\n",
    "from sklearn.metrics import mean_squared_error"
   ]
  },
  {
   "cell_type": "markdown",
   "metadata": {},
   "source": [
    "#### Grid Search Cross Validation\n",
    "Grid Search CV implements an exhaustive search over specified parameter values for an estimator.\n",
    "Important members are fit, predict.\n",
    "\n",
    "It iterates through a dictionary of hyper parameters and choose the combination that better fits the model."
   ]
  },
  {
   "cell_type": "code",
   "execution_count": 24,
   "metadata": {},
   "outputs": [
    {
     "name": "stdout",
     "output_type": "stream",
     "text": [
      "Fitting 5 folds for each of 140 candidates, totalling 700 fits\n",
      "RandomForestRegressor(min_samples_split=12, n_estimators=250)\n"
     ]
    }
   ],
   "source": [
    "from sklearn.model_selection import GridSearchCV\n",
    "# Set the parameters by cross-validation\n",
    "tuned_parameters = {'n_estimators': [100,150,200,250,300], 'max_depth': [None, 1, 2, 3, 4,5,6], 'min_samples_split': [10,15,20,12]}\n",
    "\n",
    "\n",
    "# clf = ensemble.RandomForestRegressor(n_estimators=500, n_jobs=1, verbose=1)\n",
    "gridCV = GridSearchCV(RandomForestRegressor(), tuned_parameters, cv=5, n_jobs=-1, verbose=1)\n",
    "gridCV.fit(X_train, y_train)\n",
    "print (gridCV.best_estimator_)"
   ]
  },
  {
   "cell_type": "markdown",
   "metadata": {},
   "source": [
    "#### Model accuracy: R-Squared and Root-mean-squared deviation\n",
    "R-squared is a statistical measure of how close the data are to the fitted regression line. It ranges from 0 to 1, being 1 the best coefficient.\n",
    "RMSE is the square root of the mean square error. In other worids the distance, on average, of a data point from the fitted line, measured along a vertical line."
   ]
  },
  {
   "cell_type": "code",
   "execution_count": 26,
   "metadata": {},
   "outputs": [
    {
     "name": "stdout",
     "output_type": "stream",
     "text": [
      " R^2 (train) = 0.736286, R^2 (valid) = 0.394314, RMSE (train) = 0.007892, RMSE (valid) = 0.012505\n"
     ]
    }
   ],
   "source": [
    "reg = gridCV.best_estimator_\n",
    "training_accuracy = reg.score(X_train, y_train)\n",
    "valid_accuracy = reg.score(X_test, y_test)\n",
    "rmsetrain = np.sqrt(mean_squared_error(reg.predict(X_train),y_train))\n",
    "rmsevalid = np.sqrt(mean_squared_error(reg.predict(X_test),y_test))\n",
    "print (\" R^2 (train) = %0.6f, R^2 (valid) = %0.6f, RMSE (train) = %0.6f, RMSE (valid) = %0.6f\" % (training_accuracy, valid_accuracy, rmsetrain, rmsevalid))"
   ]
  },
  {
   "cell_type": "markdown",
   "metadata": {},
   "source": [
    "#### Forest feature importances\n",
    "Feature importance shows a coefficient of how much a feature is involved in the decision process of the model. It help us to detect bias in the model, and to make a readjust and better feature selection "
   ]
  },
  {
   "cell_type": "code",
   "execution_count": 12,
   "metadata": {},
   "outputs": [
    {
     "name": "stdout",
     "output_type": "stream",
     "text": [
      "Feature ranking:\n",
      "1. feature 5 (0.216750)\n",
      "2. feature 3 (0.197595)\n",
      "3. feature 8 (0.145890)\n",
      "4. feature 9 (0.092050)\n",
      "5. feature 0 (0.091104)\n",
      "6. feature 1 (0.086868)\n",
      "7. feature 2 (0.083828)\n",
      "8. feature 4 (0.043987)\n",
      "9. feature 7 (0.021023)\n",
      "10. feature 6 (0.020904)\n"
     ]
    },
    {
     "data": {
      "image/png": "[encoded data removed]",
      "text/plain": [
       "<Figure size 640x480 with 1 Axes>"
      ]
     },
     "metadata": {},
     "output_type": "display_data"
    }
   ],
   "source": [
    "importances = reg.feature_importances_\n",
    "std = np.std([tree.feature_importances_ for tree in reg.estimators_],\n",
    "             axis=0)\n",
    "indices = np.argsort(importances)[::-1]\n",
    "\n",
    "# Print the feature ranking\n",
    "print(\"Feature ranking:\")\n",
    "\n",
    "for f in range(X.shape[1]):\n",
    "    print(\"%d. feature %d (%f)\" % (f + 1, indices[f], importances[indices[f]]))\n",
    "\n",
    "# Plot the feature importances of the forest\n",
    "feature_names = X_train.columns\n",
    "plt.figure()\n",
    "plt.title(\"Feature importances\")\n",
    "plt.bar(range(X_train.shape[1]), importances[indices],\n",
    "       color=\"r\", yerr=std[indices], align=\"center\")\n",
    "plt.xticks(range(X_train.shape[1]), feature_names)\n",
    "plt.xlim([-1, X_train.shape[1]])\n",
    "plt.show()"
   ]
  },
  {
   "cell_type": "code",
   "execution_count": 13,
   "metadata": {},
   "outputs": [
    {
     "data": {
      "text/html": [
       "<div>\n",
       "<style scoped>\n",
       "    .dataframe tbody tr th:only-of-type {\n",
       "        vertical-align: middle;\n",
       "    }\n",
       "\n",
       "    .dataframe tbody tr th {\n",
       "        vertical-align: top;\n",
       "    }\n",
       "\n",
       "    .dataframe thead th {\n",
       "        text-align: right;\n",
       "    }\n",
       "</style>\n",
       "<table border=\"1\" class=\"dataframe\">\n",
       "  <thead>\n",
       "    <tr style=\"text-align: right;\">\n",
       "      <th></th>\n",
       "      <th>day_num</th>\n",
       "      <th>x_start</th>\n",
       "      <th>y_start</th>\n",
       "      <th>z_start</th>\n",
       "      <th>linea_org</th>\n",
       "      <th>tipo_usuario</th>\n",
       "      <th>viaje_org</th>\n",
       "      <th>coche_org</th>\n",
       "      <th>ruta_org</th>\n",
       "      <th>time_num</th>\n",
       "      <th>end_lat</th>\n",
       "      <th>end_lon</th>\n",
       "    </tr>\n",
       "  </thead>\n",
       "  <tbody>\n",
       "    <tr>\n",
       "      <th>48054</th>\n",
       "      <td>0.381944</td>\n",
       "      <td>-0.668593</td>\n",
       "      <td>0.550437</td>\n",
       "      <td>-0.500003</td>\n",
       "      <td>2</td>\n",
       "      <td>100</td>\n",
       "      <td>0</td>\n",
       "      <td>0</td>\n",
       "      <td>0</td>\n",
       "      <td>0.673611</td>\n",
       "      <td>43.466120</td>\n",
       "      <td>-3.795605</td>\n",
       "    </tr>\n",
       "    <tr>\n",
       "      <th>30537</th>\n",
       "      <td>0.818849</td>\n",
       "      <td>-0.654543</td>\n",
       "      <td>0.553419</td>\n",
       "      <td>-0.515073</td>\n",
       "      <td>2</td>\n",
       "      <td>12</td>\n",
       "      <td>2</td>\n",
       "      <td>2</td>\n",
       "      <td>1</td>\n",
       "      <td>0.731944</td>\n",
       "      <td>43.447065</td>\n",
       "      <td>-3.852253</td>\n",
       "    </tr>\n",
       "    <tr>\n",
       "      <th>76642</th>\n",
       "      <td>0.375794</td>\n",
       "      <td>-0.686874</td>\n",
       "      <td>0.531709</td>\n",
       "      <td>-0.495469</td>\n",
       "      <td>8</td>\n",
       "      <td>1</td>\n",
       "      <td>8</td>\n",
       "      <td>8</td>\n",
       "      <td>2</td>\n",
       "      <td>0.630556</td>\n",
       "      <td>43.459425</td>\n",
       "      <td>-3.854313</td>\n",
       "    </tr>\n",
       "    <tr>\n",
       "      <th>75166</th>\n",
       "      <td>0.360516</td>\n",
       "      <td>-0.672777</td>\n",
       "      <td>0.546842</td>\n",
       "      <td>-0.498331</td>\n",
       "      <td>16</td>\n",
       "      <td>3</td>\n",
       "      <td>7</td>\n",
       "      <td>7</td>\n",
       "      <td>1</td>\n",
       "      <td>0.523611</td>\n",
       "      <td>43.463545</td>\n",
       "      <td>-3.802128</td>\n",
       "    </tr>\n",
       "    <tr>\n",
       "      <th>24349</th>\n",
       "      <td>0.632143</td>\n",
       "      <td>-0.656821</td>\n",
       "      <td>0.571741</td>\n",
       "      <td>-0.491629</td>\n",
       "      <td>19</td>\n",
       "      <td>17</td>\n",
       "      <td>6</td>\n",
       "      <td>6</td>\n",
       "      <td>2</td>\n",
       "      <td>0.425000</td>\n",
       "      <td>43.460798</td>\n",
       "      <td>-3.847103</td>\n",
       "    </tr>\n",
       "    <tr>\n",
       "      <th>63091</th>\n",
       "      <td>0.060317</td>\n",
       "      <td>-0.655553</td>\n",
       "      <td>0.566526</td>\n",
       "      <td>-0.499297</td>\n",
       "      <td>2</td>\n",
       "      <td>1</td>\n",
       "      <td>3</td>\n",
       "      <td>3</td>\n",
       "      <td>1</td>\n",
       "      <td>0.422222</td>\n",
       "      <td>43.463717</td>\n",
       "      <td>-3.811398</td>\n",
       "    </tr>\n",
       "    <tr>\n",
       "      <th>85699</th>\n",
       "      <td>0.641667</td>\n",
       "      <td>-0.663753</td>\n",
       "      <td>0.557134</td>\n",
       "      <td>-0.499033</td>\n",
       "      <td>2</td>\n",
       "      <td>1</td>\n",
       "      <td>5</td>\n",
       "      <td>5</td>\n",
       "      <td>1</td>\n",
       "      <td>0.491667</td>\n",
       "      <td>43.459425</td>\n",
       "      <td>-3.829250</td>\n",
       "    </tr>\n",
       "    <tr>\n",
       "      <th>48742</th>\n",
       "      <td>0.409921</td>\n",
       "      <td>-0.701051</td>\n",
       "      <td>0.521005</td>\n",
       "      <td>-0.486910</td>\n",
       "      <td>2</td>\n",
       "      <td>1</td>\n",
       "      <td>14</td>\n",
       "      <td>14</td>\n",
       "      <td>2</td>\n",
       "      <td>0.869444</td>\n",
       "      <td>43.463545</td>\n",
       "      <td>-3.802128</td>\n",
       "    </tr>\n",
       "    <tr>\n",
       "      <th>66875</th>\n",
       "      <td>0.195040</td>\n",
       "      <td>-0.657646</td>\n",
       "      <td>0.561823</td>\n",
       "      <td>-0.501853</td>\n",
       "      <td>2</td>\n",
       "      <td>72</td>\n",
       "      <td>3</td>\n",
       "      <td>3</td>\n",
       "      <td>1</td>\n",
       "      <td>0.365278</td>\n",
       "      <td>43.463888</td>\n",
       "      <td>-3.800411</td>\n",
       "    </tr>\n",
       "    <tr>\n",
       "      <th>67406</th>\n",
       "      <td>0.196825</td>\n",
       "      <td>-0.698587</td>\n",
       "      <td>0.528946</td>\n",
       "      <td>-0.481863</td>\n",
       "      <td>1</td>\n",
       "      <td>13</td>\n",
       "      <td>3</td>\n",
       "      <td>3</td>\n",
       "      <td>2</td>\n",
       "      <td>0.377778</td>\n",
       "      <td>43.465261</td>\n",
       "      <td>-3.787022</td>\n",
       "    </tr>\n",
       "  </tbody>\n",
       "</table>\n",
       "</div>"
      ],
      "text/plain": [
       "        day_num   x_start   y_start   z_start  linea_org  tipo_usuario  \\\n",
       "48054  0.381944 -0.668593  0.550437 -0.500003          2           100   \n",
       "30537  0.818849 -0.654543  0.553419 -0.515073          2            12   \n",
       "76642  0.375794 -0.686874  0.531709 -0.495469          8             1   \n",
       "75166  0.360516 -0.672777  0.546842 -0.498331         16             3   \n",
       "24349  0.632143 -0.656821  0.571741 -0.491629         19            17   \n",
       "63091  0.060317 -0.655553  0.566526 -0.499297          2             1   \n",
       "85699  0.641667 -0.663753  0.557134 -0.499033          2             1   \n",
       "48742  0.409921 -0.701051  0.521005 -0.486910          2             1   \n",
       "66875  0.195040 -0.657646  0.561823 -0.501853          2            72   \n",
       "67406  0.196825 -0.698587  0.528946 -0.481863          1            13   \n",
       "\n",
       "       viaje_org  coche_org  ruta_org  time_num    end_lat   end_lon  \n",
       "48054          0          0         0  0.673611  43.466120 -3.795605  \n",
       "30537          2          2         1  0.731944  43.447065 -3.852253  \n",
       "76642          8          8         2  0.630556  43.459425 -3.854313  \n",
       "75166          7          7         1  0.523611  43.463545 -3.802128  \n",
       "24349          6          6         2  0.425000  43.460798 -3.847103  \n",
       "63091          3          3         1  0.422222  43.463717 -3.811398  \n",
       "85699          5          5         1  0.491667  43.459425 -3.829250  \n",
       "48742         14         14         2  0.869444  43.463545 -3.802128  \n",
       "66875          3          3         1  0.365278  43.463888 -3.800411  \n",
       "67406          3          3         2  0.377778  43.465261 -3.787022  "
      ]
     },
     "execution_count": 13,
     "metadata": {},
     "output_type": "execute_result"
    }
   ],
   "source": [
    "sampleds = pd.DataFrame(featuredDataset, columns=(columns_X + columns_y))\n",
    "sampleds = sampleds.sample(10)\n",
    "sampleds"
   ]
  },
  {
   "cell_type": "code",
   "execution_count": 14,
   "metadata": {},
   "outputs": [
    {
     "data": {
      "text/plain": [
       "array([[43.46650176, -3.80683198],\n",
       "       [43.45863401, -3.8222631 ],\n",
       "       [43.45959107, -3.84246309],\n",
       "       [43.46467016, -3.81076443],\n",
       "       [43.46131708, -3.83241881],\n",
       "       [43.46364221, -3.81096572],\n",
       "       [43.46302969, -3.8117162 ],\n",
       "       [43.46440677, -3.80424157],\n",
       "       [43.46501079, -3.80698237],\n",
       "       [43.46620118, -3.79786819]])"
      ]
     },
     "execution_count": 14,
     "metadata": {},
     "output_type": "execute_result"
    }
   ],
   "source": [
    "y_pred = reg.predict(sampleds.iloc[:,:-2])\n",
    "y_pred"
   ]
  },
  {
   "cell_type": "markdown",
   "metadata": {},
   "source": [
    "### Save the model\n",
    "We dump the trained model into a file, so that we can later load and use it without having to fit it again"
   ]
  },
  {
   "cell_type": "code",
   "execution_count": 15,
   "metadata": {},
   "outputs": [
    {
     "data": {
      "text/plain": [
       "['random_forest_model.pkl']"
      ]
     },
     "execution_count": 15,
     "metadata": {},
     "output_type": "execute_result"
    }
   ],
   "source": [
    "import joblib\n",
    "joblib.dump(reg, 'random_forest_model.pkl') "
   ]
  },
  {
   "cell_type": "code",
   "execution_count": null,
   "metadata": {},
   "outputs": [],
   "source": []
  }
 ],
 "metadata": {
  "kernelspec": {
   "display_name": "Python 3 (ipykernel)",
   "language": "python",
   "name": "python3"
  },
  "language_info": {
   "codemirror_mode": {
    "name": "ipython",
    "version": 3
   },
   "file_extension": ".py",
   "mimetype": "text/x-python",
   "name": "python",
   "nbconvert_exporter": "python",
   "pygments_lexer": "ipython3",
   "version": "3.10.9"
  }
 },
 "nbformat": 4,
 "nbformat_minor": 2
}
