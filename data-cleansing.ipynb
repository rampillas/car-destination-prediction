{
 "cells": [
  {
   "cell_type": "code",
   "execution_count": 2,
   "metadata": {},
   "outputs": [
    {
     "name": "stderr",
     "output_type": "stream",
     "text": [
      "Setting default log level to \"WARN\".\n",
      "To adjust logging level use sc.setLogLevel(newLevel). For SparkR, use setLogLevel(newLevel).\n"
     ]
    },
    {
     "name": "stdout",
     "output_type": "stream",
     "text": [
      "23/02/20 13:13:30 WARN NativeCodeLoader: Unable to load native-hadoop library for your platform... using builtin-java classes where applicable\n"
     ]
    },
    {
     "name": "stderr",
     "output_type": "stream",
     "text": [
      "/Users/andres/opt/anaconda3/envs/redes_neuronales_tus/lib/python3.10/site-packages/pyspark/sql/context.py:112: FutureWarning: Deprecated in 3.0.0. Use SparkSession.builder.getOrCreate() instead.\n",
      "  warnings.warn(\n"
     ]
    }
   ],
   "source": [
    "import findspark\n",
    "findspark.init()\n",
    "import pyspark\n",
    "import os\n",
    "\n",
    "sc = pyspark.SparkContext()\n",
    "spark = pyspark.SQLContext(sc)\n",
    "\n",
    "working_dir = os.getcwd()"
   ]
  },
  {
   "cell_type": "code",
   "execution_count": 3,
   "metadata": {},
   "outputs": [
    {
     "name": "stderr",
     "output_type": "stream",
     "text": [
      "\r",
      "[Stage 0:>                                                          (0 + 1) / 1]\r",
      "\r",
      "                                                                                \r"
     ]
    }
   ],
   "source": [
    "# Load parquet file into dataframe\n",
    "df = spark.read.parquet(\"file://\" + working_dir + \"/testDataset/part-00000-711fabb0-5efc-4d83-afad-0e03a3156794.snappy.parquet\")"
   ]
  },
  {
   "cell_type": "markdown",
   "metadata": {},
   "source": [
    "# Exploration and data cleansing"
   ]
  },
  {
   "cell_type": "markdown",
   "metadata": {},
   "source": [
    "#### Show total count of lines"
   ]
  },
  {
   "cell_type": "code",
   "execution_count": 4,
   "metadata": {},
   "outputs": [
    {
     "data": {
      "text/plain": [
       "600000"
      ]
     },
     "execution_count": 4,
     "metadata": {},
     "output_type": "execute_result"
    }
   ],
   "source": [
    "# Count lines\n",
    "df.count()"
   ]
  },
  {
   "cell_type": "markdown",
   "metadata": {},
   "source": [
    "#### Show the aspect of fiew records"
   ]
  },
  {
   "cell_type": "code",
   "execution_count": 5,
   "metadata": {},
   "outputs": [
    {
     "name": "stdout",
     "output_type": "stream",
     "text": [
      "+--------------------+--------------------+-------------------+---------+--------+---------+\n",
      "|            deviceId|             eventId|          eventTime|      lat|     lon|eventType|\n",
      "+--------------------+--------------------+-------------------+---------+--------+---------+\n",
      "|8f88ac99-8aa5-88a...|000c5bd2-d2d5-4cf...|2017-05-24 12:34:40|47.409271|8.547062| location|\n",
      "|8f88ac99-8aa5-88a...|001b3982-ec22-4bb...|2017-05-24 16:21:41|47.417977|8.554384| location|\n",
      "|8f88ac99-8aa5-88a...|00287463-b763-40b...|2017-05-24 16:02:50|47.416406| 8.55298| location|\n",
      "|8f88ac99-8aa5-88a...|002946bb-19b8-40a...|2017-05-24 15:03:39|47.417743|8.554184| location|\n",
      "|8f88ac99-8aa5-88a...|002947fd-bb93-434...|2017-05-24 12:56:02|47.406545|8.547231| location|\n",
      "+--------------------+--------------------+-------------------+---------+--------+---------+\n",
      "only showing top 5 rows\n",
      "\n"
     ]
    }
   ],
   "source": [
    "# Show first 5 lines\n",
    "df.show(5)"
   ]
  },
  {
   "cell_type": "markdown",
   "metadata": {},
   "source": [
    "#### Show all types of eventType"
   ]
  },
  {
   "cell_type": "code",
   "execution_count": 6,
   "metadata": {},
   "outputs": [
    {
     "name": "stdout",
     "output_type": "stream",
     "text": [
      "+-------------+\n",
      "|    eventType|\n",
      "+-------------+\n",
      "|status-update|\n",
      "|     trip-end|\n",
      "|     location|\n",
      "|   trip-start|\n",
      "|   mil-update|\n",
      "+-------------+\n",
      "\n"
     ]
    }
   ],
   "source": [
    "df.createOrReplaceTempView(\"rawdata\")\n",
    "spark.sql(\"SELECT DISTINCT eventType FROM rawdata\").show()"
   ]
  },
  {
   "cell_type": "markdown",
   "metadata": {},
   "source": [
    "#### Remove rows with null or NaN values"
   ]
  },
  {
   "cell_type": "code",
   "execution_count": 7,
   "metadata": {},
   "outputs": [
    {
     "data": {
      "text/plain": [
       "600000"
      ]
     },
     "execution_count": 7,
     "metadata": {},
     "output_type": "execute_result"
    }
   ],
   "source": [
    "# Remove rows with any null or NaN value\n",
    "df.dropna\n",
    "# Count lines\n",
    "df.count()"
   ]
  },
  {
   "cell_type": "code",
   "execution_count": 8,
   "metadata": {},
   "outputs": [],
   "source": [
    "# Update created temp view for raw data\n",
    "df.createOrReplaceTempView(\"rawdata\")"
   ]
  },
  {
   "cell_type": "markdown",
   "metadata": {},
   "source": [
    "### Remove unnecessary event types\n",
    "Since we are going to predict estimation based on the start position, we won't need the rest of events (location, etc). Also, we remove rows with gps non valid values (0.0)."
   ]
  },
  {
   "cell_type": "code",
   "execution_count": 9,
   "metadata": {},
   "outputs": [
    {
     "data": {
      "text/plain": [
       "13444"
      ]
     },
     "execution_count": 9,
     "metadata": {},
     "output_type": "execute_result"
    }
   ],
   "source": [
    "# 1. Create a view with only the values we need for processing\n",
    "df = spark.sql(\"SELECT deviceId, eventTime, lat, lon, eventType FROM rawdata \\\n",
    "WHERE (eventType='trip-start' OR eventType='trip-end') \\\n",
    "AND (lat != 0.0 and lon != 0.0) ORDER BY eventTime\")\n",
    "df.createOrReplaceTempView(\"cleands\")\n",
    "df.count()"
   ]
  },
  {
   "cell_type": "markdown",
   "metadata": {},
   "source": [
    "## Explore data transformation for a single device\n",
    "The purpose is to reduce the problem so that we are sure that the transformations that we apply to the data produce the desired results. \n",
    "The aim of these transformations is to clean the dataset and take only the correctly paired start-trip / end-trip data."
   ]
  },
  {
   "cell_type": "code",
   "execution_count": 10,
   "metadata": {},
   "outputs": [
    {
     "name": "stdout",
     "output_type": "stream",
     "text": [
      "+------------------------------------+-------------------+---------+----------+----------+\n",
      "|deviceId                            |eventTime          |lat      |lon       |eventType |\n",
      "+------------------------------------+-------------------+---------+----------+----------+\n",
      "|D08699AE-BDAC-4AB4-2F15-177C74993133|2017-05-25 23:46:05|32.988837|-97.263735|trip-end  |\n",
      "|D08699AE-BDAC-4AB4-2F15-177C74993133|2017-05-25 23:46:09|32.988837|-97.263735|trip-end  |\n",
      "|D08699AE-BDAC-4AB4-2F15-177C74993133|2017-05-26 00:35:30|32.98925 |-97.263821|trip-end  |\n",
      "|D08699AE-BDAC-4AB4-2F15-177C74993133|2017-05-26 00:35:39|32.989253|-97.263822|trip-start|\n",
      "|D08699AE-BDAC-4AB4-2F15-177C74993133|2017-05-26 02:08:40|32.841525|-97.068658|trip-end  |\n",
      "|D08699AE-BDAC-4AB4-2F15-177C74993133|2017-05-26 02:08:46|32.841525|-97.068658|trip-end  |\n",
      "|D08699AE-BDAC-4AB4-2F15-177C74993133|2017-05-26 13:57:30|32.926142|-97.087224|trip-start|\n",
      "|D08699AE-BDAC-4AB4-2F15-177C74993133|2017-05-26 19:17:41|32.98928 |-97.264482|trip-start|\n",
      "|D08699AE-BDAC-4AB4-2F15-177C74993133|2017-05-26 19:19:30|32.988822|-97.263723|trip-end  |\n",
      "|D08699AE-BDAC-4AB4-2F15-177C74993133|2017-05-31 14:35:46|32.988778|-97.263861|trip-end  |\n",
      "|D08699AE-BDAC-4AB4-2F15-177C74993133|2017-06-01 00:11:22|32.989214|-97.26381 |trip-start|\n",
      "|D08699AE-BDAC-4AB4-2F15-177C74993133|2017-06-01 00:38:47|32.841445|-97.06854 |trip-end  |\n",
      "|D08699AE-BDAC-4AB4-2F15-177C74993133|2017-06-01 13:31:50|32.790594|-97.134356|trip-end  |\n",
      "|D08699AE-BDAC-4AB4-2F15-177C74993133|2017-06-01 13:44:54|32.789698|-97.133493|trip-start|\n",
      "|D08699AE-BDAC-4AB4-2F15-177C74993133|2017-06-02 01:17:43|32.84152 |-97.068662|trip-end  |\n",
      "|D08699AE-BDAC-4AB4-2F15-177C74993133|2017-06-02 14:07:44|32.841552|-97.068303|trip-start|\n",
      "|D08699AE-BDAC-4AB4-2F15-177C74993133|2017-06-02 14:32:29|32.988817|-97.263714|trip-end  |\n",
      "|D08699AE-BDAC-4AB4-2F15-177C74993133|2017-06-08 02:19:02|32.822621|-97.058403|trip-start|\n",
      "|D08699AE-BDAC-4AB4-2F15-177C74993133|2017-06-08 13:53:49|32.847142|-97.076774|trip-end  |\n",
      "|D08699AE-BDAC-4AB4-2F15-177C74993133|2017-06-08 13:53:59|32.847143|-97.076774|trip-start|\n",
      "|D08699AE-BDAC-4AB4-2F15-177C74993133|2017-06-09 00:04:53|32.841374|-97.067877|trip-start|\n",
      "|D08699AE-BDAC-4AB4-2F15-177C74993133|2017-06-09 00:05:51|32.841491|-97.068668|trip-end  |\n",
      "|D08699AE-BDAC-4AB4-2F15-177C74993133|2017-06-09 13:56:07|32.840194|-97.083023|trip-end  |\n",
      "|D08699AE-BDAC-4AB4-2F15-177C74993133|2017-06-09 13:56:39|32.840282|-97.083114|trip-end  |\n",
      "|D08699AE-BDAC-4AB4-2F15-177C74993133|2017-06-09 13:57:15|32.843793|-97.081171|trip-start|\n",
      "|D08699AE-BDAC-4AB4-2F15-177C74993133|2017-06-09 13:57:39|32.845665|-97.077159|trip-start|\n",
      "|D08699AE-BDAC-4AB4-2F15-177C74993133|2017-06-09 13:58:24|32.84612 |-97.071799|trip-start|\n",
      "|D08699AE-BDAC-4AB4-2F15-177C74993133|2017-06-10 00:58:05|32.989001|-97.263582|trip-start|\n",
      "|D08699AE-BDAC-4AB4-2F15-177C74993133|2017-06-10 01:23:09|32.841531|-97.068663|trip-end  |\n",
      "|D08699AE-BDAC-4AB4-2F15-177C74993133|2017-06-12 14:46:15|32.988817|-97.26363 |trip-end  |\n",
      "|D08699AE-BDAC-4AB4-2F15-177C74993133|2017-06-13 01:17:59|32.841514|-97.068597|trip-end  |\n",
      "+------------------------------------+-------------------+---------+----------+----------+\n",
      "\n"
     ]
    }
   ],
   "source": [
    "# Show an example of data for a certain device\n",
    "singleDevice = spark.sql(\"SELECT * FROM cleands WHERE deviceId='D08699AE-BDAC-4AB4-2F15-177C74993133'\")\n",
    "singleDevice.createOrReplaceTempView(\"singledevice\")\n",
    "singleDevice.show(100, False)"
   ]
  },
  {
   "cell_type": "markdown",
   "metadata": {},
   "source": [
    "### 1. Extract previous and next event for every row\n",
    "To do this, we use LAG and LEAD window functions to shift the data. The result will add two new columns *previousEvent* and *nextEvent* to the dataset"
   ]
  },
  {
   "cell_type": "code",
   "execution_count": 11,
   "metadata": {},
   "outputs": [
    {
     "name": "stdout",
     "output_type": "stream",
     "text": [
      "23/02/20 13:14:23 WARN WindowExec: No Partition Defined for Window operation! Moving all data to a single partition, this can cause serious performance degradation.\n",
      "23/02/20 13:14:23 WARN WindowExec: No Partition Defined for Window operation! Moving all data to a single partition, this can cause serious performance degradation.\n",
      "23/02/20 13:14:23 WARN WindowExec: No Partition Defined for Window operation! Moving all data to a single partition, this can cause serious performance degradation.\n",
      "23/02/20 13:14:23 WARN WindowExec: No Partition Defined for Window operation! Moving all data to a single partition, this can cause serious performance degradation.\n",
      "23/02/20 13:14:23 WARN WindowExec: No Partition Defined for Window operation! Moving all data to a single partition, this can cause serious performance degradation.\n",
      "23/02/20 13:14:23 WARN WindowExec: No Partition Defined for Window operation! Moving all data to a single partition, this can cause serious performance degradation.\n",
      "23/02/20 13:14:23 WARN WindowExec: No Partition Defined for Window operation! Moving all data to a single partition, this can cause serious performance degradation.\n",
      "+--------------------+-------------------+---------+----------+----------+-------------+----------+\n",
      "|            deviceId|          eventTime|      lat|       lon| eventType|previousEvent| nextEvent|\n",
      "+--------------------+-------------------+---------+----------+----------+-------------+----------+\n",
      "|D08699AE-BDAC-4AB...|2017-05-25 23:46:05|32.988837|-97.263735|  trip-end|         null|  trip-end|\n",
      "|D08699AE-BDAC-4AB...|2017-05-25 23:46:09|32.988837|-97.263735|  trip-end|     trip-end|  trip-end|\n",
      "|D08699AE-BDAC-4AB...|2017-05-26 00:35:30| 32.98925|-97.263821|  trip-end|     trip-end|trip-start|\n",
      "|D08699AE-BDAC-4AB...|2017-05-26 00:35:39|32.989253|-97.263822|trip-start|     trip-end|  trip-end|\n",
      "|D08699AE-BDAC-4AB...|2017-05-26 02:08:40|32.841525|-97.068658|  trip-end|   trip-start|  trip-end|\n",
      "|D08699AE-BDAC-4AB...|2017-05-26 02:08:46|32.841525|-97.068658|  trip-end|     trip-end|trip-start|\n",
      "|D08699AE-BDAC-4AB...|2017-05-26 13:57:30|32.926142|-97.087224|trip-start|     trip-end|trip-start|\n",
      "|D08699AE-BDAC-4AB...|2017-05-26 19:17:41| 32.98928|-97.264482|trip-start|   trip-start|  trip-end|\n",
      "|D08699AE-BDAC-4AB...|2017-05-26 19:19:30|32.988822|-97.263723|  trip-end|   trip-start|  trip-end|\n",
      "|D08699AE-BDAC-4AB...|2017-05-31 14:35:46|32.988778|-97.263861|  trip-end|     trip-end|trip-start|\n",
      "|D08699AE-BDAC-4AB...|2017-06-01 00:11:22|32.989214| -97.26381|trip-start|     trip-end|  trip-end|\n",
      "|D08699AE-BDAC-4AB...|2017-06-01 00:38:47|32.841445| -97.06854|  trip-end|   trip-start|  trip-end|\n",
      "|D08699AE-BDAC-4AB...|2017-06-01 13:31:50|32.790594|-97.134356|  trip-end|     trip-end|trip-start|\n",
      "|D08699AE-BDAC-4AB...|2017-06-01 13:44:54|32.789698|-97.133493|trip-start|     trip-end|  trip-end|\n",
      "|D08699AE-BDAC-4AB...|2017-06-02 01:17:43| 32.84152|-97.068662|  trip-end|   trip-start|trip-start|\n",
      "|D08699AE-BDAC-4AB...|2017-06-02 14:07:44|32.841552|-97.068303|trip-start|     trip-end|  trip-end|\n",
      "|D08699AE-BDAC-4AB...|2017-06-02 14:32:29|32.988817|-97.263714|  trip-end|   trip-start|trip-start|\n",
      "|D08699AE-BDAC-4AB...|2017-06-08 02:19:02|32.822621|-97.058403|trip-start|     trip-end|  trip-end|\n",
      "|D08699AE-BDAC-4AB...|2017-06-08 13:53:49|32.847142|-97.076774|  trip-end|   trip-start|trip-start|\n",
      "|D08699AE-BDAC-4AB...|2017-06-08 13:53:59|32.847143|-97.076774|trip-start|     trip-end|trip-start|\n",
      "|D08699AE-BDAC-4AB...|2017-06-09 00:04:53|32.841374|-97.067877|trip-start|   trip-start|  trip-end|\n",
      "|D08699AE-BDAC-4AB...|2017-06-09 00:05:51|32.841491|-97.068668|  trip-end|   trip-start|  trip-end|\n",
      "|D08699AE-BDAC-4AB...|2017-06-09 13:56:07|32.840194|-97.083023|  trip-end|     trip-end|  trip-end|\n",
      "|D08699AE-BDAC-4AB...|2017-06-09 13:56:39|32.840282|-97.083114|  trip-end|     trip-end|trip-start|\n",
      "|D08699AE-BDAC-4AB...|2017-06-09 13:57:15|32.843793|-97.081171|trip-start|     trip-end|trip-start|\n",
      "|D08699AE-BDAC-4AB...|2017-06-09 13:57:39|32.845665|-97.077159|trip-start|   trip-start|trip-start|\n",
      "|D08699AE-BDAC-4AB...|2017-06-09 13:58:24| 32.84612|-97.071799|trip-start|   trip-start|trip-start|\n",
      "|D08699AE-BDAC-4AB...|2017-06-10 00:58:05|32.989001|-97.263582|trip-start|   trip-start|  trip-end|\n",
      "|D08699AE-BDAC-4AB...|2017-06-10 01:23:09|32.841531|-97.068663|  trip-end|   trip-start|  trip-end|\n",
      "|D08699AE-BDAC-4AB...|2017-06-12 14:46:15|32.988817| -97.26363|  trip-end|     trip-end|  trip-end|\n",
      "|D08699AE-BDAC-4AB...|2017-06-13 01:17:59|32.841514|-97.068597|  trip-end|     trip-end|      null|\n",
      "+--------------------+-------------------+---------+----------+----------+-------------+----------+\n",
      "\n"
     ]
    }
   ],
   "source": [
    "# Shift values of eventType to add previous and next event\n",
    "singleDevice = spark.sql(\"SELECT *, LAG(eventType, 1) OVER (ORDER BY eventTime) AS previousEvent, \\\n",
    "LEAD(eventType, 1) OVER (ORDER BY eventTime) AS nextEvent FROM singledevice\")\n",
    "singleDevice.createOrReplaceTempView(\"singledevice\")\n",
    "singleDevice.show(100)"
   ]
  },
  {
   "cell_type": "markdown",
   "metadata": {},
   "source": [
    "### 2. Remove trip-start and trip-end non valid rows\n",
    "The only valid data is that which defines a valid trip, that is, a trip-start followed by a trip-end event. Those trip-start with no trip-end after it, or those trip-end without a preceding trip-start are removed from the dataset."
   ]
  },
  {
   "cell_type": "code",
   "execution_count": 12,
   "metadata": {},
   "outputs": [
    {
     "name": "stdout",
     "output_type": "stream",
     "text": [
      "23/02/20 13:14:32 WARN WindowExec: No Partition Defined for Window operation! Moving all data to a single partition, this can cause serious performance degradation.\n",
      "23/02/20 13:14:32 WARN WindowExec: No Partition Defined for Window operation! Moving all data to a single partition, this can cause serious performance degradation.\n",
      "23/02/20 13:14:32 WARN WindowExec: No Partition Defined for Window operation! Moving all data to a single partition, this can cause serious performance degradation.\n",
      "23/02/20 13:14:33 WARN WindowExec: No Partition Defined for Window operation! Moving all data to a single partition, this can cause serious performance degradation.\n",
      "23/02/20 13:14:33 WARN WindowExec: No Partition Defined for Window operation! Moving all data to a single partition, this can cause serious performance degradation.\n",
      "23/02/20 13:14:33 WARN WindowExec: No Partition Defined for Window operation! Moving all data to a single partition, this can cause serious performance degradation.\n",
      "23/02/20 13:14:33 WARN WindowExec: No Partition Defined for Window operation! Moving all data to a single partition, this can cause serious performance degradation.\n",
      "+------------------------------------+-------------------+---------+----------+----------+\n",
      "|deviceId                            |eventTime          |lat      |lon       |eventType |\n",
      "+------------------------------------+-------------------+---------+----------+----------+\n",
      "|D08699AE-BDAC-4AB4-2F15-177C74993133|2017-05-26 00:35:39|32.989253|-97.263822|trip-start|\n",
      "|D08699AE-BDAC-4AB4-2F15-177C74993133|2017-05-26 02:08:40|32.841525|-97.068658|trip-end  |\n",
      "|D08699AE-BDAC-4AB4-2F15-177C74993133|2017-05-26 19:17:41|32.98928 |-97.264482|trip-start|\n",
      "|D08699AE-BDAC-4AB4-2F15-177C74993133|2017-05-26 19:19:30|32.988822|-97.263723|trip-end  |\n",
      "|D08699AE-BDAC-4AB4-2F15-177C74993133|2017-06-01 00:11:22|32.989214|-97.26381 |trip-start|\n",
      "|D08699AE-BDAC-4AB4-2F15-177C74993133|2017-06-01 00:38:47|32.841445|-97.06854 |trip-end  |\n",
      "|D08699AE-BDAC-4AB4-2F15-177C74993133|2017-06-01 13:44:54|32.789698|-97.133493|trip-start|\n",
      "|D08699AE-BDAC-4AB4-2F15-177C74993133|2017-06-02 01:17:43|32.84152 |-97.068662|trip-end  |\n",
      "|D08699AE-BDAC-4AB4-2F15-177C74993133|2017-06-02 14:07:44|32.841552|-97.068303|trip-start|\n",
      "|D08699AE-BDAC-4AB4-2F15-177C74993133|2017-06-02 14:32:29|32.988817|-97.263714|trip-end  |\n",
      "|D08699AE-BDAC-4AB4-2F15-177C74993133|2017-06-08 02:19:02|32.822621|-97.058403|trip-start|\n",
      "|D08699AE-BDAC-4AB4-2F15-177C74993133|2017-06-08 13:53:49|32.847142|-97.076774|trip-end  |\n",
      "|D08699AE-BDAC-4AB4-2F15-177C74993133|2017-06-09 00:04:53|32.841374|-97.067877|trip-start|\n",
      "|D08699AE-BDAC-4AB4-2F15-177C74993133|2017-06-09 00:05:51|32.841491|-97.068668|trip-end  |\n",
      "|D08699AE-BDAC-4AB4-2F15-177C74993133|2017-06-10 00:58:05|32.989001|-97.263582|trip-start|\n",
      "|D08699AE-BDAC-4AB4-2F15-177C74993133|2017-06-10 01:23:09|32.841531|-97.068663|trip-end  |\n",
      "+------------------------------------+-------------------+---------+----------+----------+\n",
      "\n"
     ]
    }
   ],
   "source": [
    "# Remove non valid trip-start and trip-end (those without its corresponding pair)\n",
    "singleDevice = spark.sql(\"SELECT deviceId, eventTime, lat, lon, eventType FROM singledevice \\\n",
    "WHERE NOT ((eventType='trip-end' AND previousEvent='trip-end') \\\n",
    "OR (eventType='trip-start' AND nextEvent='trip-start'))\")\n",
    "singleDevice.createOrReplaceTempView(\"singledevice\")\n",
    "singleDevice.show(20, False)\n"
   ]
  },
  {
   "cell_type": "markdown",
   "metadata": {},
   "source": [
    "### 3. Put all the data of every complete trip in the same row\n",
    "We move the position and time data of every complete trip in a single row. This way we will be able to process each row as a trip, and we'll no longer need deviceId or eventType"
   ]
  },
  {
   "cell_type": "code",
   "execution_count": 12,
   "metadata": {},
   "outputs": [
    {
     "name": "stdout",
     "output_type": "stream",
     "text": [
      "+---------------------+---------------------+---------+----------+---------+----------+\n",
      "|eventTimeStart       |eventTimeEnd         |latStart |lonStart  |latEnd   |lonEnd    |\n",
      "+---------------------+---------------------+---------+----------+---------+----------+\n",
      "|2017-05-26 00:35:39.0|2017-05-26 02:08:40.0|32.989253|-97.263822|32.841525|-97.068658|\n",
      "|2017-05-26 19:17:41.0|2017-05-26 19:19:30.0|32.98928 |-97.264482|32.988822|-97.263723|\n",
      "|2017-06-01 00:11:22.0|2017-06-01 00:38:47.0|32.989214|-97.26381 |32.841445|-97.06854 |\n",
      "|2017-06-01 13:44:54.0|2017-06-02 01:17:43.0|32.789698|-97.133493|32.84152 |-97.068662|\n",
      "|2017-06-02 14:07:44.0|2017-06-02 14:32:29.0|32.841552|-97.068303|32.988817|-97.263714|\n",
      "|2017-06-08 02:19:02.0|2017-06-08 13:53:49.0|32.822621|-97.058403|32.847142|-97.076774|\n",
      "|2017-06-09 00:04:53.0|2017-06-09 00:05:51.0|32.841374|-97.067877|32.841491|-97.068668|\n",
      "|2017-06-10 00:58:05.0|2017-06-10 01:23:09.0|32.989001|-97.263582|32.841531|-97.068663|\n",
      "+---------------------+---------------------+---------+----------+---------+----------+\n",
      "\n"
     ]
    }
   ],
   "source": [
    "# Move start and end values of a trip to a single row. We won't need deviceId any more\n",
    "singleDevice = spark.sql(\"SELECT eventTime AS eventTimeStart, \\\n",
    "LEAD(eventTime, 1) OVER (ORDER BY eventTime) AS eventTimeEnd, lat AS latStart, lon AS lonStart, \\\n",
    "LEAD(lat, 1) OVER (ORDER BY eventTime) AS latEnd, \\\n",
    "LEAD(lon, 1) OVER (ORDER BY eventTime) AS lonEnd, \\\n",
    "eventType FROM singledevice\")\n",
    "singleDevice.createOrReplaceTempView(\"singledevice\")\n",
    "singleDevice = spark.sql(\"SELECT eventTimeStart, eventTimeEnd, latStart, lonStart, latEnd, lonEnd \\\n",
    "FROM singledevice WHERE eventType='trip-start'\")\n",
    "singleDevice.createOrReplaceTempView(\"singledevice\")\n",
    "singleDevice.show(100, False)"
   ]
  },
  {
   "cell_type": "markdown",
   "metadata": {},
   "source": [
    "## Apply the transformations to the whole dataset"
   ]
  },
  {
   "cell_type": "markdown",
   "metadata": {},
   "source": [
    "### 1. Extract previous and next event for every row\n",
    "To do this, we use LAG and LEAD window functions to shift the data. The result will add two new columns *previousEvent* and *nextEvent* to the dataset"
   ]
  },
  {
   "cell_type": "code",
   "execution_count": 13,
   "metadata": {},
   "outputs": [
    {
     "name": "stdout",
     "output_type": "stream",
     "text": [
      "+--------------------+--------------------+----------+---------+----------+-------------+---------+\n",
      "|            deviceId|           eventTime|       lat|      lon| eventType|previousEvent|nextEvent|\n",
      "+--------------------+--------------------+----------+---------+----------+-------------+---------+\n",
      "|11111111-1b2a-4bc...|2017-03-22 16:50:...|38.7735368|-9.168737|trip-start|         null| trip-end|\n",
      "|11111111-1b2a-4bc...|2017-03-22 17:14:...|  38.76522|-9.098054|  trip-end|   trip-start| trip-end|\n",
      "|11111111-1b2a-4bc...|2017-03-22 17:14:...|  38.76522|-9.098054|  trip-end|     trip-end|     null|\n",
      "|11111111-2605-430...|2017-03-22 17:14:...|  38.76522|-9.098054|  trip-end|         null| trip-end|\n",
      "|11111111-2605-430...|2017-03-22 17:14:...|  38.76522|-9.098054|  trip-end|     trip-end|     null|\n",
      "|11111111-3306-4d3...|2017-03-22 16:50:...|38.7735368|-9.168737|trip-start|         null| trip-end|\n",
      "|11111111-3306-4d3...|2017-03-22 17:14:...|  38.76522|-9.098054|  trip-end|   trip-start| trip-end|\n",
      "|11111111-3306-4d3...|2017-03-22 17:14:...|  38.76522|-9.098054|  trip-end|     trip-end|     null|\n",
      "|11111111-4aec-463...|2017-03-22 17:14:...|  38.76522|-9.098054|  trip-end|         null|     null|\n",
      "|11111111-74d8-4eb...|2017-03-22 16:50:...|38.7735368|-9.168737|trip-start|         null| trip-end|\n",
      "|11111111-74d8-4eb...|2017-03-22 17:14:...|  38.76522|-9.098054|  trip-end|   trip-start|     null|\n",
      "|11111111-79e4-45a...|2017-03-22 17:14:...|  38.76522|-9.098054|  trip-end|         null| trip-end|\n",
      "|11111111-79e4-45a...|2017-03-22 17:14:...|  38.76522|-9.098054|  trip-end|     trip-end|     null|\n",
      "|11111111-92b5-434...|2017-03-22 16:50:...|38.7735368|-9.168737|trip-start|         null|     null|\n",
      "|11111111-a924-49c...|2017-03-22 16:50:...|38.7735368|-9.168737|trip-start|         null| trip-end|\n",
      "|11111111-a924-49c...|2017-03-22 17:14:...|  38.76522|-9.098054|  trip-end|   trip-start|     null|\n",
      "|11111111-ae56-45e...|2017-03-22 16:50:...|38.7735368|-9.168737|trip-start|         null| trip-end|\n",
      "|11111111-ae56-45e...|2017-03-22 17:14:...|  38.76522|-9.098054|  trip-end|   trip-start| trip-end|\n",
      "|11111111-ae56-45e...|2017-03-22 17:14:...|  38.76522|-9.098054|  trip-end|     trip-end| trip-end|\n",
      "|11111111-ae56-45e...|2017-03-22 17:14:...|  38.76522|-9.098054|  trip-end|     trip-end|     null|\n",
      "+--------------------+--------------------+----------+---------+----------+-------------+---------+\n",
      "only showing top 20 rows\n",
      "\n"
     ]
    }
   ],
   "source": [
    "# Shift values of eventType to add previous and next event\n",
    "allDevices = spark.sql(\"SELECT *, LAG(eventType, 1) OVER (PARTITION BY deviceId ORDER BY eventTime) AS previousEvent, \\\n",
    "LEAD(eventType, 1) OVER (PARTITION BY deviceId ORDER BY eventTime) AS nextEvent FROM cleands\")\n",
    "allDevices.createOrReplaceTempView(\"alldevices\")\n",
    "allDevices.show(20)"
   ]
  },
  {
   "cell_type": "markdown",
   "metadata": {},
   "source": [
    "### 2. Remove trip-start and trip-end non valid rows\n",
    "The only valid data is that which defines a valid trip, that is, a trip-start followed by a trip-end event. Those trip-start with no trip-end after it, or those trip-end without a preceeding trip-start are removed from the dataset."
   ]
  },
  {
   "cell_type": "code",
   "execution_count": 14,
   "metadata": {},
   "outputs": [
    {
     "name": "stdout",
     "output_type": "stream",
     "text": [
      "+------------------------------------+---------------------+----------+---------+----------+\n",
      "|deviceId                            |eventTime            |lat       |lon      |eventType |\n",
      "+------------------------------------+---------------------+----------+---------+----------+\n",
      "|11111111-1b2a-4bc0-9818-2b62e59a1a4a|2017-03-22 16:50:25.0|38.7735368|-9.168737|trip-start|\n",
      "|11111111-1b2a-4bc0-9818-2b62e59a1a4a|2017-03-22 17:14:26.0|38.76522  |-9.098054|trip-end  |\n",
      "|11111111-3306-4d31-b992-cd8b79d45e58|2017-03-22 16:50:25.0|38.7735368|-9.168737|trip-start|\n",
      "|11111111-3306-4d31-b992-cd8b79d45e58|2017-03-22 17:14:26.0|38.76522  |-9.098054|trip-end  |\n",
      "|11111111-74d8-4eb3-ae71-693eb56cc990|2017-03-22 16:50:25.0|38.7735368|-9.168737|trip-start|\n",
      "|11111111-74d8-4eb3-ae71-693eb56cc990|2017-03-22 17:14:26.0|38.76522  |-9.098054|trip-end  |\n",
      "|11111111-a924-49c8-84b4-60b0c2e7b5d3|2017-03-22 16:50:25.0|38.7735368|-9.168737|trip-start|\n",
      "|11111111-a924-49c8-84b4-60b0c2e7b5d3|2017-03-22 17:14:26.0|38.76522  |-9.098054|trip-end  |\n",
      "|11111111-ae56-45e2-9262-c04162e9f08e|2017-03-22 16:50:25.0|38.7735368|-9.168737|trip-start|\n",
      "|11111111-ae56-45e2-9262-c04162e9f08e|2017-03-22 17:14:26.0|38.76522  |-9.098054|trip-end  |\n",
      "|11111111-ae96-4ee2-8b2d-8f44f5a49061|2017-03-22 16:50:25.0|38.7735368|-9.168737|trip-start|\n",
      "|11111111-ae96-4ee2-8b2d-8f44f5a49061|2017-03-22 17:14:26.0|38.76522  |-9.098054|trip-end  |\n",
      "|11111111-aed0-4e48-b282-bbca26188ad9|2017-03-22 16:50:25.0|38.7735368|-9.168737|trip-start|\n",
      "|11111111-aed0-4e48-b282-bbca26188ad9|2017-03-22 17:14:26.0|38.76522  |-9.098054|trip-end  |\n",
      "|11111111-db7b-4f8a-94fc-26525bdbe52c|2017-03-22 16:50:25.0|38.7735368|-9.168737|trip-start|\n",
      "|11111111-db7b-4f8a-94fc-26525bdbe52c|2017-03-22 17:14:26.0|38.76522  |-9.098054|trip-end  |\n",
      "|11111111-04ef-4dbf-bf21-c968a6c8aae3|2017-03-22 16:50:25.0|38.7735368|-9.168737|trip-start|\n",
      "|11111111-04ef-4dbf-bf21-c968a6c8aae3|2017-03-22 17:14:26.0|38.76522  |-9.098054|trip-end  |\n",
      "|11111111-244e-416e-99bf-f3c8e6139e0a|2017-03-22 16:50:25.0|38.7735368|-9.168737|trip-start|\n",
      "|11111111-244e-416e-99bf-f3c8e6139e0a|2017-03-22 17:14:26.0|38.76522  |-9.098054|trip-end  |\n",
      "+------------------------------------+---------------------+----------+---------+----------+\n",
      "only showing top 20 rows\n",
      "\n"
     ]
    }
   ],
   "source": [
    "# Remove non valid trip-start and trip-end (those without its corresponding pair)\n",
    "allDevices = spark.sql(\"SELECT deviceId, eventTime, lat, lon, eventType FROM alldevices \\\n",
    "WHERE NOT ((eventType='trip-end' AND previousEvent='trip-end') \\\n",
    "OR (eventType='trip-start' AND nextEvent='trip-start'))\")\n",
    "allDevices.createOrReplaceTempView(\"alldevices\")\n",
    "allDevices.show(20, False)"
   ]
  },
  {
   "cell_type": "code",
   "execution_count": 15,
   "metadata": {},
   "outputs": [
    {
     "data": {
      "text/plain": [
       "6308"
      ]
     },
     "execution_count": 15,
     "metadata": {},
     "output_type": "execute_result"
    }
   ],
   "source": [
    "allDevices.count()"
   ]
  },
  {
   "cell_type": "markdown",
   "metadata": {},
   "source": [
    "### 3. Put all the data of every complete trip in the same row\n",
    "We move the position and time data of every complete trip in a single row. This way we will be able to process each row as a trip, and we'll no longer need deviceId or eventType"
   ]
  },
  {
   "cell_type": "code",
   "execution_count": 16,
   "metadata": {},
   "outputs": [
    {
     "name": "stdout",
     "output_type": "stream",
     "text": [
      "+---------------------+---------------------+----------+---------+--------+---------+\n",
      "|eventTimeStart       |eventTimeEnd         |latStart  |lonStart |latEnd  |lonEnd   |\n",
      "+---------------------+---------------------+----------+---------+--------+---------+\n",
      "|2017-03-22 16:50:25.0|2017-03-22 17:14:26.0|38.7735368|-9.168737|38.76522|-9.098054|\n",
      "|2017-03-22 16:50:25.0|2017-03-22 17:14:26.0|38.7735368|-9.168737|38.76522|-9.098054|\n",
      "|2017-03-22 16:50:25.0|2017-03-22 17:14:26.0|38.7735368|-9.168737|38.76522|-9.098054|\n",
      "|2017-03-22 16:50:25.0|2017-03-22 17:14:26.0|38.7735368|-9.168737|38.76522|-9.098054|\n",
      "|2017-03-22 16:50:25.0|2017-03-22 17:14:26.0|38.7735368|-9.168737|38.76522|-9.098054|\n",
      "|2017-03-22 16:50:25.0|2017-03-22 17:14:26.0|38.7735368|-9.168737|38.76522|-9.098054|\n",
      "|2017-03-22 16:50:25.0|2017-03-22 17:14:26.0|38.7735368|-9.168737|38.76522|-9.098054|\n",
      "|2017-03-22 16:50:25.0|2017-03-22 17:14:26.0|38.7735368|-9.168737|38.76522|-9.098054|\n",
      "|2017-03-22 16:50:25.0|2017-03-22 17:14:26.0|38.7735368|-9.168737|38.76522|-9.098054|\n",
      "|2017-03-22 16:50:25.0|2017-03-22 17:14:26.0|38.7735368|-9.168737|38.76522|-9.098054|\n",
      "|2017-03-22 16:50:25.0|2017-03-22 17:14:26.0|38.7735368|-9.168737|38.76522|-9.098054|\n",
      "|2017-03-22 16:50:25.0|2017-03-22 17:14:26.0|38.7735368|-9.168737|38.76522|-9.098054|\n",
      "|2017-03-22 16:50:25.0|2017-03-22 17:14:26.0|38.7735368|-9.168737|38.76522|-9.098054|\n",
      "|2017-03-22 16:50:25.0|2017-03-22 17:14:26.0|38.7735368|-9.168737|38.76522|-9.098054|\n",
      "|2017-03-22 16:50:25.0|2017-03-22 17:14:26.0|38.7735368|-9.168737|38.76522|-9.098054|\n",
      "|2017-03-22 16:50:25.0|2017-03-22 17:14:26.0|38.7735368|-9.168737|38.76522|-9.098054|\n",
      "|2017-03-22 16:50:25.0|2017-03-22 17:14:26.0|38.7735368|-9.168737|38.76522|-9.098054|\n",
      "|2017-03-22 16:50:25.0|2017-03-22 17:14:26.0|38.7735368|-9.168737|38.76522|-9.098054|\n",
      "|2017-03-22 16:50:25.0|2017-03-22 17:14:26.0|38.7735368|-9.168737|38.76522|-9.098054|\n",
      "|2017-03-22 16:50:25.0|2017-03-22 17:14:26.0|38.7735368|-9.168737|38.76522|-9.098054|\n",
      "+---------------------+---------------------+----------+---------+--------+---------+\n",
      "only showing top 20 rows\n",
      "\n"
     ]
    }
   ],
   "source": [
    "# Move start and end values of a trip to a single row. We won't need deviceId any more\n",
    "allDevices = spark.sql(\"SELECT eventTime AS eventTimeStart, \\\n",
    "LEAD(eventTime, 1) OVER (PARTITION BY deviceId ORDER BY eventTime) AS eventTimeEnd, lat AS latStart, lon AS lonStart, \\\n",
    "LEAD(lat, 1) OVER (PARTITION BY deviceId ORDER BY eventTime) AS latEnd, \\\n",
    "LEAD(lon, 1) OVER (PARTITION BY deviceId ORDER BY eventTime) AS lonEnd, \\\n",
    "eventType FROM alldevices\")\n",
    "allDevices.createOrReplaceTempView(\"alldevices\")\n",
    "allDevices = spark.sql(\"SELECT eventTimeStart, eventTimeEnd, latStart, lonStart, latEnd, lonEnd \\\n",
    "FROM alldevices WHERE eventType='trip-start'\")\n",
    "allDevices.createOrReplaceTempView(\"alldevices\")\n",
    "allDevices.show(20, False)"
   ]
  },
  {
   "cell_type": "code",
   "execution_count": 17,
   "metadata": {},
   "outputs": [
    {
     "data": {
      "text/plain": [
       "3154"
      ]
     },
     "execution_count": 17,
     "metadata": {},
     "output_type": "execute_result"
    }
   ],
   "source": [
    "allDevices.count()"
   ]
  },
  {
   "cell_type": "markdown",
   "metadata": {},
   "source": [
    "### Remove duplicates\n",
    "After examining the resulting data, we observe that there many registers with exactly the same data for the time start and de starting and end position, so we remove the redundant data to avoid bias on the predicting model"
   ]
  },
  {
   "cell_type": "code",
   "execution_count": 18,
   "metadata": {},
   "outputs": [
    {
     "name": "stdout",
     "output_type": "stream",
     "text": [
      "+---------------------+---------------------+---------+--------+---------+----------+\n",
      "|eventTimeStart       |eventTimeEnd         |latStart |lonStart|latEnd   |lonEnd    |\n",
      "+---------------------+---------------------+---------+--------+---------+----------+\n",
      "|2017-05-31 14:00:36.0|2017-05-31 14:07:38.0|33.049029|-96.7165|33.040753|-96.736455|\n",
      "|2017-05-24 12:30:37.0|2017-05-24 12:30:37.0|47.409291|8.546942|47.423743|8.555213  |\n",
      "|2017-05-24 13:00:22.0|2017-05-24 13:00:23.0|47.409291|8.546942|47.423743|8.555213  |\n",
      "|2017-05-24 15:58:39.0|2017-05-24 15:58:40.0|47.409291|8.546942|47.423743|8.555213  |\n",
      "|2017-05-24 16:33:43.0|2017-05-24 16:33:43.0|47.409291|8.546942|47.423743|8.555213  |\n",
      "|2017-05-24 12:27:10.0|2017-05-24 12:27:10.0|47.409291|8.546942|47.423743|8.555213  |\n",
      "|2017-05-24 15:36:09.0|2017-05-24 15:36:09.0|47.409291|8.546942|47.423743|8.555213  |\n",
      "|2017-05-24 15:42:32.0|2017-05-24 15:42:33.0|47.409291|8.546942|47.423743|8.555213  |\n",
      "|2017-05-24 17:42:37.0|2017-05-24 17:42:37.0|47.409291|8.546942|47.423743|8.555213  |\n",
      "|2017-05-24 13:08:47.0|2017-05-24 13:08:48.0|47.409291|8.546942|47.423743|8.555213  |\n",
      "|2017-05-24 13:20:31.0|2017-05-24 13:20:36.0|47.409291|8.546942|47.423743|8.555213  |\n",
      "|2017-05-24 13:22:57.0|2017-05-24 13:22:58.0|47.409291|8.546942|47.423743|8.555213  |\n",
      "|2017-05-24 13:23:03.0|2017-05-24 13:23:05.0|47.409291|8.546942|47.423743|8.555213  |\n",
      "|2017-05-24 13:29:29.0|2017-05-24 13:29:31.0|47.409291|8.546942|47.423743|8.555213  |\n",
      "|2017-05-24 13:34:04.0|2017-05-24 13:34:06.0|47.409291|8.546942|47.423743|8.555213  |\n",
      "|2017-05-24 13:41:55.0|2017-05-24 13:41:55.0|47.409291|8.546942|47.423743|8.555213  |\n",
      "|2017-05-24 15:07:55.0|2017-05-24 15:07:56.0|47.409291|8.546942|47.423743|8.555213  |\n",
      "|2017-05-24 15:38:12.0|2017-05-24 15:38:15.0|47.409291|8.546942|47.423743|8.555213  |\n",
      "|2017-05-24 16:12:24.0|2017-05-24 16:12:24.0|47.409291|8.546942|47.423743|8.555213  |\n",
      "|2017-05-24 13:39:53.0|2017-05-24 13:39:54.0|47.409291|8.546942|47.423743|8.555213  |\n",
      "+---------------------+---------------------+---------+--------+---------+----------+\n",
      "only showing top 20 rows\n",
      "\n"
     ]
    }
   ],
   "source": [
    "allDevices = allDevices.dropDuplicates(['eventTimeStart', 'latStart', 'lonStart', 'latEnd', 'lonEnd'])\n",
    "allDevices.createOrReplaceTempView(\"alldevices\")\n",
    "allDevices.show(20, False)"
   ]
  },
  {
   "cell_type": "code",
   "execution_count": 19,
   "metadata": {},
   "outputs": [
    {
     "data": {
      "text/plain": [
       "1537"
      ]
     },
     "execution_count": 19,
     "metadata": {},
     "output_type": "execute_result"
    }
   ],
   "source": [
    "allDevices.count()"
   ]
  },
  {
   "cell_type": "markdown",
   "metadata": {},
   "source": [
    "# Data visualization"
   ]
  },
  {
   "cell_type": "code",
   "execution_count": 20,
   "metadata": {
    "collapsed": true
   },
   "outputs": [],
   "source": [
    "import pandas as pd\n",
    "dfProcessed = allDevices.toPandas()"
   ]
  },
  {
   "cell_type": "markdown",
   "metadata": {},
   "source": [
    "### Data check after transformations\n",
    "We make an overview of the description of the data before and after the processing to check that it makes sense."
   ]
  },
  {
   "cell_type": "markdown",
   "metadata": {},
   "source": [
    "First we describe the data after processing. We observe allmost all the position data for start and end is identical, so just looking at the data we could tell that our car is always doing the same trip."
   ]
  },
  {
   "cell_type": "code",
   "execution_count": 21,
   "metadata": {},
   "outputs": [
    {
     "data": {
      "text/html": [
       "<div>\n",
       "<style>\n",
       "    .dataframe thead tr:only-child th {\n",
       "        text-align: right;\n",
       "    }\n",
       "\n",
       "    .dataframe thead th {\n",
       "        text-align: left;\n",
       "    }\n",
       "\n",
       "    .dataframe tbody tr th {\n",
       "        vertical-align: top;\n",
       "    }\n",
       "</style>\n",
       "<table border=\"1\" class=\"dataframe\">\n",
       "  <thead>\n",
       "    <tr style=\"text-align: right;\">\n",
       "      <th></th>\n",
       "      <th>latStart</th>\n",
       "      <th>lonStart</th>\n",
       "      <th>latEnd</th>\n",
       "      <th>lonEnd</th>\n",
       "    </tr>\n",
       "  </thead>\n",
       "  <tbody>\n",
       "    <tr>\n",
       "      <th>count</th>\n",
       "      <td>1537.000000</td>\n",
       "      <td>1537.000000</td>\n",
       "      <td>1537.000000</td>\n",
       "      <td>1537.000000</td>\n",
       "    </tr>\n",
       "    <tr>\n",
       "      <th>mean</th>\n",
       "      <td>47.196908</td>\n",
       "      <td>7.022652</td>\n",
       "      <td>47.210831</td>\n",
       "      <td>7.031469</td>\n",
       "    </tr>\n",
       "    <tr>\n",
       "      <th>std</th>\n",
       "      <td>1.729804</td>\n",
       "      <td>12.564383</td>\n",
       "      <td>1.734106</td>\n",
       "      <td>12.560133</td>\n",
       "    </tr>\n",
       "    <tr>\n",
       "      <th>min</th>\n",
       "      <td>32.789698</td>\n",
       "      <td>-97.264482</td>\n",
       "      <td>32.841445</td>\n",
       "      <td>-97.302954</td>\n",
       "    </tr>\n",
       "    <tr>\n",
       "      <th>25%</th>\n",
       "      <td>47.409291</td>\n",
       "      <td>8.546942</td>\n",
       "      <td>47.423743</td>\n",
       "      <td>8.555213</td>\n",
       "    </tr>\n",
       "    <tr>\n",
       "      <th>50%</th>\n",
       "      <td>47.409291</td>\n",
       "      <td>8.546942</td>\n",
       "      <td>47.423743</td>\n",
       "      <td>8.555213</td>\n",
       "    </tr>\n",
       "    <tr>\n",
       "      <th>75%</th>\n",
       "      <td>47.409291</td>\n",
       "      <td>8.546942</td>\n",
       "      <td>47.423743</td>\n",
       "      <td>8.555213</td>\n",
       "    </tr>\n",
       "    <tr>\n",
       "      <th>max</th>\n",
       "      <td>47.409291</td>\n",
       "      <td>8.546942</td>\n",
       "      <td>47.423743</td>\n",
       "      <td>8.555213</td>\n",
       "    </tr>\n",
       "  </tbody>\n",
       "</table>\n",
       "</div>"
      ],
      "text/plain": [
       "          latStart     lonStart       latEnd       lonEnd\n",
       "count  1537.000000  1537.000000  1537.000000  1537.000000\n",
       "mean     47.196908     7.022652    47.210831     7.031469\n",
       "std       1.729804    12.564383     1.734106    12.560133\n",
       "min      32.789698   -97.264482    32.841445   -97.302954\n",
       "25%      47.409291     8.546942    47.423743     8.555213\n",
       "50%      47.409291     8.546942    47.423743     8.555213\n",
       "75%      47.409291     8.546942    47.423743     8.555213\n",
       "max      47.409291     8.546942    47.423743     8.555213"
      ]
     },
     "execution_count": 21,
     "metadata": {},
     "output_type": "execute_result"
    }
   ],
   "source": [
    "dfProcessed.describe()"
   ]
  },
  {
   "cell_type": "markdown",
   "metadata": {},
   "source": [
    "Then we also describe the data before doing any processing. Starting and end positions are mixed, so we can make much conclusions, but we can observe that the range of the data make sense."
   ]
  },
  {
   "cell_type": "code",
   "execution_count": 22,
   "metadata": {},
   "outputs": [
    {
     "data": {
      "text/html": [
       "<div>\n",
       "<style>\n",
       "    .dataframe thead tr:only-child th {\n",
       "        text-align: right;\n",
       "    }\n",
       "\n",
       "    .dataframe thead th {\n",
       "        text-align: left;\n",
       "    }\n",
       "\n",
       "    .dataframe tbody tr th {\n",
       "        vertical-align: top;\n",
       "    }\n",
       "</style>\n",
       "<table border=\"1\" class=\"dataframe\">\n",
       "  <thead>\n",
       "    <tr style=\"text-align: right;\">\n",
       "      <th></th>\n",
       "      <th>lat</th>\n",
       "      <th>lon</th>\n",
       "    </tr>\n",
       "  </thead>\n",
       "  <tbody>\n",
       "    <tr>\n",
       "      <th>count</th>\n",
       "      <td>13444.000000</td>\n",
       "      <td>13444.000000</td>\n",
       "    </tr>\n",
       "    <tr>\n",
       "      <th>mean</th>\n",
       "      <td>43.070245</td>\n",
       "      <td>-0.743264</td>\n",
       "    </tr>\n",
       "    <tr>\n",
       "      <th>std</th>\n",
       "      <td>4.376916</td>\n",
       "      <td>11.331070</td>\n",
       "    </tr>\n",
       "    <tr>\n",
       "      <th>min</th>\n",
       "      <td>32.789698</td>\n",
       "      <td>-97.302954</td>\n",
       "    </tr>\n",
       "    <tr>\n",
       "      <th>25%</th>\n",
       "      <td>38.765220</td>\n",
       "      <td>-9.098054</td>\n",
       "    </tr>\n",
       "    <tr>\n",
       "      <th>50%</th>\n",
       "      <td>47.409291</td>\n",
       "      <td>8.546942</td>\n",
       "    </tr>\n",
       "    <tr>\n",
       "      <th>75%</th>\n",
       "      <td>47.409291</td>\n",
       "      <td>8.546942</td>\n",
       "    </tr>\n",
       "    <tr>\n",
       "      <th>max</th>\n",
       "      <td>47.423743</td>\n",
       "      <td>8.555213</td>\n",
       "    </tr>\n",
       "  </tbody>\n",
       "</table>\n",
       "</div>"
      ],
      "text/plain": [
       "                lat           lon\n",
       "count  13444.000000  13444.000000\n",
       "mean      43.070245     -0.743264\n",
       "std        4.376916     11.331070\n",
       "min       32.789698    -97.302954\n",
       "25%       38.765220     -9.098054\n",
       "50%       47.409291      8.546942\n",
       "75%       47.409291      8.546942\n",
       "max       47.423743      8.555213"
      ]
     },
     "execution_count": 22,
     "metadata": {},
     "output_type": "execute_result"
    }
   ],
   "source": [
    "dfRaw = df.toPandas()\n",
    "dfRaw.describe()"
   ]
  },
  {
   "cell_type": "code",
   "execution_count": 23,
   "metadata": {},
   "outputs": [
    {
     "data": {
      "text/html": [
       "<div>\n",
       "<style>\n",
       "    .dataframe thead tr:only-child th {\n",
       "        text-align: right;\n",
       "    }\n",
       "\n",
       "    .dataframe thead th {\n",
       "        text-align: left;\n",
       "    }\n",
       "\n",
       "    .dataframe tbody tr th {\n",
       "        vertical-align: top;\n",
       "    }\n",
       "</style>\n",
       "<table border=\"1\" class=\"dataframe\">\n",
       "  <thead>\n",
       "    <tr style=\"text-align: right;\">\n",
       "      <th></th>\n",
       "      <th>eventTimeStart</th>\n",
       "      <th>eventTimeEnd</th>\n",
       "      <th>latStart</th>\n",
       "      <th>lonStart</th>\n",
       "      <th>latEnd</th>\n",
       "      <th>lonEnd</th>\n",
       "    </tr>\n",
       "  </thead>\n",
       "  <tbody>\n",
       "    <tr>\n",
       "      <th>162</th>\n",
       "      <td>2017-03-22 16:50:25</td>\n",
       "      <td>2017-03-22 17:14:26</td>\n",
       "      <td>38.773537</td>\n",
       "      <td>-9.168737</td>\n",
       "      <td>38.765220</td>\n",
       "      <td>-9.098054</td>\n",
       "    </tr>\n",
       "    <tr>\n",
       "      <th>136</th>\n",
       "      <td>2017-05-24 12:20:56</td>\n",
       "      <td>2017-05-24 12:21:02</td>\n",
       "      <td>47.409291</td>\n",
       "      <td>8.546942</td>\n",
       "      <td>47.423743</td>\n",
       "      <td>8.555213</td>\n",
       "    </tr>\n",
       "    <tr>\n",
       "      <th>589</th>\n",
       "      <td>2017-05-24 12:21:08</td>\n",
       "      <td>2017-05-24 12:21:13</td>\n",
       "      <td>47.409291</td>\n",
       "      <td>8.546942</td>\n",
       "      <td>47.423743</td>\n",
       "      <td>8.555213</td>\n",
       "    </tr>\n",
       "    <tr>\n",
       "      <th>1505</th>\n",
       "      <td>2017-05-24 12:21:17</td>\n",
       "      <td>2017-05-24 12:21:21</td>\n",
       "      <td>47.409291</td>\n",
       "      <td>8.546942</td>\n",
       "      <td>47.423743</td>\n",
       "      <td>8.555213</td>\n",
       "    </tr>\n",
       "    <tr>\n",
       "      <th>524</th>\n",
       "      <td>2017-05-24 12:21:24</td>\n",
       "      <td>2017-05-24 12:21:31</td>\n",
       "      <td>47.409291</td>\n",
       "      <td>8.546942</td>\n",
       "      <td>47.423743</td>\n",
       "      <td>8.555213</td>\n",
       "    </tr>\n",
       "    <tr>\n",
       "      <th>609</th>\n",
       "      <td>2017-05-24 12:21:32</td>\n",
       "      <td>2017-05-24 12:21:34</td>\n",
       "      <td>47.409291</td>\n",
       "      <td>8.546942</td>\n",
       "      <td>47.423743</td>\n",
       "      <td>8.555213</td>\n",
       "    </tr>\n",
       "    <tr>\n",
       "      <th>1116</th>\n",
       "      <td>2017-05-24 12:21:37</td>\n",
       "      <td>2017-05-24 12:21:38</td>\n",
       "      <td>47.409291</td>\n",
       "      <td>8.546942</td>\n",
       "      <td>47.423743</td>\n",
       "      <td>8.555213</td>\n",
       "    </tr>\n",
       "    <tr>\n",
       "      <th>1355</th>\n",
       "      <td>2017-05-24 12:22:08</td>\n",
       "      <td>2017-05-24 12:22:09</td>\n",
       "      <td>47.409291</td>\n",
       "      <td>8.546942</td>\n",
       "      <td>47.423743</td>\n",
       "      <td>8.555213</td>\n",
       "    </tr>\n",
       "    <tr>\n",
       "      <th>1258</th>\n",
       "      <td>2017-05-24 12:22:23</td>\n",
       "      <td>2017-05-24 12:22:26</td>\n",
       "      <td>47.409291</td>\n",
       "      <td>8.546942</td>\n",
       "      <td>47.423743</td>\n",
       "      <td>8.555213</td>\n",
       "    </tr>\n",
       "    <tr>\n",
       "      <th>373</th>\n",
       "      <td>2017-05-24 12:22:27</td>\n",
       "      <td>2017-05-24 12:22:32</td>\n",
       "      <td>47.409291</td>\n",
       "      <td>8.546942</td>\n",
       "      <td>47.423743</td>\n",
       "      <td>8.555213</td>\n",
       "    </tr>\n",
       "    <tr>\n",
       "      <th>673</th>\n",
       "      <td>2017-05-24 12:23:17</td>\n",
       "      <td>2017-05-24 12:23:20</td>\n",
       "      <td>47.409291</td>\n",
       "      <td>8.546942</td>\n",
       "      <td>47.423743</td>\n",
       "      <td>8.555213</td>\n",
       "    </tr>\n",
       "    <tr>\n",
       "      <th>674</th>\n",
       "      <td>2017-05-24 12:23:21</td>\n",
       "      <td>2017-05-24 12:23:25</td>\n",
       "      <td>47.409291</td>\n",
       "      <td>8.546942</td>\n",
       "      <td>47.423743</td>\n",
       "      <td>8.555213</td>\n",
       "    </tr>\n",
       "    <tr>\n",
       "      <th>1414</th>\n",
       "      <td>2017-05-24 12:23:30</td>\n",
       "      <td>2017-05-24 12:23:31</td>\n",
       "      <td>47.409291</td>\n",
       "      <td>8.546942</td>\n",
       "      <td>47.423743</td>\n",
       "      <td>8.555213</td>\n",
       "    </tr>\n",
       "    <tr>\n",
       "      <th>759</th>\n",
       "      <td>2017-05-24 12:23:38</td>\n",
       "      <td>2017-05-24 12:23:40</td>\n",
       "      <td>47.409291</td>\n",
       "      <td>8.546942</td>\n",
       "      <td>47.423743</td>\n",
       "      <td>8.555213</td>\n",
       "    </tr>\n",
       "    <tr>\n",
       "      <th>1019</th>\n",
       "      <td>2017-05-24 12:23:45</td>\n",
       "      <td>2017-05-24 12:23:45</td>\n",
       "      <td>47.409291</td>\n",
       "      <td>8.546942</td>\n",
       "      <td>47.423743</td>\n",
       "      <td>8.555213</td>\n",
       "    </tr>\n",
       "    <tr>\n",
       "      <th>1296</th>\n",
       "      <td>2017-05-24 12:23:46</td>\n",
       "      <td>2017-05-24 12:23:53</td>\n",
       "      <td>47.409291</td>\n",
       "      <td>8.546942</td>\n",
       "      <td>47.423743</td>\n",
       "      <td>8.555213</td>\n",
       "    </tr>\n",
       "    <tr>\n",
       "      <th>569</th>\n",
       "      <td>2017-05-24 12:24:26</td>\n",
       "      <td>2017-05-24 12:24:28</td>\n",
       "      <td>47.409291</td>\n",
       "      <td>8.546942</td>\n",
       "      <td>47.423743</td>\n",
       "      <td>8.555213</td>\n",
       "    </tr>\n",
       "    <tr>\n",
       "      <th>848</th>\n",
       "      <td>2017-05-24 12:24:44</td>\n",
       "      <td>2017-05-24 12:24:50</td>\n",
       "      <td>47.409291</td>\n",
       "      <td>8.546942</td>\n",
       "      <td>47.423743</td>\n",
       "      <td>8.555213</td>\n",
       "    </tr>\n",
       "    <tr>\n",
       "      <th>849</th>\n",
       "      <td>2017-05-24 12:24:51</td>\n",
       "      <td>2017-05-24 12:24:53</td>\n",
       "      <td>47.409291</td>\n",
       "      <td>8.546942</td>\n",
       "      <td>47.423743</td>\n",
       "      <td>8.555213</td>\n",
       "    </tr>\n",
       "    <tr>\n",
       "      <th>492</th>\n",
       "      <td>2017-05-24 12:24:56</td>\n",
       "      <td>2017-05-24 12:24:57</td>\n",
       "      <td>47.409291</td>\n",
       "      <td>8.546942</td>\n",
       "      <td>47.423743</td>\n",
       "      <td>8.555213</td>\n",
       "    </tr>\n",
       "    <tr>\n",
       "      <th>1226</th>\n",
       "      <td>2017-05-24 12:25:29</td>\n",
       "      <td>2017-05-24 12:25:33</td>\n",
       "      <td>47.409291</td>\n",
       "      <td>8.546942</td>\n",
       "      <td>47.423743</td>\n",
       "      <td>8.555213</td>\n",
       "    </tr>\n",
       "    <tr>\n",
       "      <th>1220</th>\n",
       "      <td>2017-05-24 12:25:45</td>\n",
       "      <td>2017-05-24 12:25:46</td>\n",
       "      <td>47.409291</td>\n",
       "      <td>8.546942</td>\n",
       "      <td>47.423743</td>\n",
       "      <td>8.555213</td>\n",
       "    </tr>\n",
       "    <tr>\n",
       "      <th>968</th>\n",
       "      <td>2017-05-24 12:25:56</td>\n",
       "      <td>2017-05-24 12:25:58</td>\n",
       "      <td>47.409291</td>\n",
       "      <td>8.546942</td>\n",
       "      <td>47.423743</td>\n",
       "      <td>8.555213</td>\n",
       "    </tr>\n",
       "    <tr>\n",
       "      <th>1495</th>\n",
       "      <td>2017-05-24 12:25:58</td>\n",
       "      <td>2017-05-24 12:25:59</td>\n",
       "      <td>47.409291</td>\n",
       "      <td>8.546942</td>\n",
       "      <td>47.423743</td>\n",
       "      <td>8.555213</td>\n",
       "    </tr>\n",
       "    <tr>\n",
       "      <th>342</th>\n",
       "      <td>2017-05-24 12:26:37</td>\n",
       "      <td>2017-05-24 12:26:38</td>\n",
       "      <td>47.409291</td>\n",
       "      <td>8.546942</td>\n",
       "      <td>47.423743</td>\n",
       "      <td>8.555213</td>\n",
       "    </tr>\n",
       "    <tr>\n",
       "      <th>1165</th>\n",
       "      <td>2017-05-24 12:26:48</td>\n",
       "      <td>2017-05-24 12:26:50</td>\n",
       "      <td>47.409291</td>\n",
       "      <td>8.546942</td>\n",
       "      <td>47.423743</td>\n",
       "      <td>8.555213</td>\n",
       "    </tr>\n",
       "    <tr>\n",
       "      <th>1515</th>\n",
       "      <td>2017-05-24 12:27:04</td>\n",
       "      <td>2017-05-24 12:27:05</td>\n",
       "      <td>47.409291</td>\n",
       "      <td>8.546942</td>\n",
       "      <td>47.423743</td>\n",
       "      <td>8.555213</td>\n",
       "    </tr>\n",
       "    <tr>\n",
       "      <th>5</th>\n",
       "      <td>2017-05-24 12:27:10</td>\n",
       "      <td>2017-05-24 12:27:10</td>\n",
       "      <td>47.409291</td>\n",
       "      <td>8.546942</td>\n",
       "      <td>47.423743</td>\n",
       "      <td>8.555213</td>\n",
       "    </tr>\n",
       "    <tr>\n",
       "      <th>1138</th>\n",
       "      <td>2017-05-24 12:27:43</td>\n",
       "      <td>2017-05-24 12:27:49</td>\n",
       "      <td>47.409291</td>\n",
       "      <td>8.546942</td>\n",
       "      <td>47.423743</td>\n",
       "      <td>8.555213</td>\n",
       "    </tr>\n",
       "    <tr>\n",
       "      <th>739</th>\n",
       "      <td>2017-05-24 12:28:09</td>\n",
       "      <td>2017-05-24 12:28:15</td>\n",
       "      <td>47.409291</td>\n",
       "      <td>8.546942</td>\n",
       "      <td>47.423743</td>\n",
       "      <td>8.555213</td>\n",
       "    </tr>\n",
       "    <tr>\n",
       "      <th>...</th>\n",
       "      <td>...</td>\n",
       "      <td>...</td>\n",
       "      <td>...</td>\n",
       "      <td>...</td>\n",
       "      <td>...</td>\n",
       "      <td>...</td>\n",
       "    </tr>\n",
       "    <tr>\n",
       "      <th>1330</th>\n",
       "      <td>2017-05-24 17:46:06</td>\n",
       "      <td>2017-05-24 17:46:06</td>\n",
       "      <td>47.409291</td>\n",
       "      <td>8.546942</td>\n",
       "      <td>47.423743</td>\n",
       "      <td>8.555213</td>\n",
       "    </tr>\n",
       "    <tr>\n",
       "      <th>265</th>\n",
       "      <td>2017-05-24 17:46:36</td>\n",
       "      <td>2017-05-24 17:46:38</td>\n",
       "      <td>47.409291</td>\n",
       "      <td>8.546942</td>\n",
       "      <td>47.423743</td>\n",
       "      <td>8.555213</td>\n",
       "    </tr>\n",
       "    <tr>\n",
       "      <th>1514</th>\n",
       "      <td>2017-05-24 17:46:43</td>\n",
       "      <td>2017-05-24 17:46:43</td>\n",
       "      <td>47.409291</td>\n",
       "      <td>8.546942</td>\n",
       "      <td>47.423743</td>\n",
       "      <td>8.555213</td>\n",
       "    </tr>\n",
       "    <tr>\n",
       "      <th>738</th>\n",
       "      <td>2017-05-24 17:46:46</td>\n",
       "      <td>2017-05-24 17:46:57</td>\n",
       "      <td>47.409291</td>\n",
       "      <td>8.546942</td>\n",
       "      <td>47.423743</td>\n",
       "      <td>8.555213</td>\n",
       "    </tr>\n",
       "    <tr>\n",
       "      <th>1494</th>\n",
       "      <td>2017-05-24 17:47:04</td>\n",
       "      <td>2017-05-24 17:47:09</td>\n",
       "      <td>47.409291</td>\n",
       "      <td>8.546942</td>\n",
       "      <td>47.423743</td>\n",
       "      <td>8.555213</td>\n",
       "    </tr>\n",
       "    <tr>\n",
       "      <th>178</th>\n",
       "      <td>2017-05-24 17:47:23</td>\n",
       "      <td>2017-05-24 17:47:26</td>\n",
       "      <td>47.409291</td>\n",
       "      <td>8.546942</td>\n",
       "      <td>47.423743</td>\n",
       "      <td>8.555213</td>\n",
       "    </tr>\n",
       "    <tr>\n",
       "      <th>313</th>\n",
       "      <td>2017-05-24 17:47:42</td>\n",
       "      <td>2017-05-24 17:47:48</td>\n",
       "      <td>47.409291</td>\n",
       "      <td>8.546942</td>\n",
       "      <td>47.423743</td>\n",
       "      <td>8.555213</td>\n",
       "    </tr>\n",
       "    <tr>\n",
       "      <th>636</th>\n",
       "      <td>2017-05-24 17:48:02</td>\n",
       "      <td>2017-05-24 17:48:13</td>\n",
       "      <td>47.409291</td>\n",
       "      <td>8.546942</td>\n",
       "      <td>47.423743</td>\n",
       "      <td>8.555213</td>\n",
       "    </tr>\n",
       "    <tr>\n",
       "      <th>52</th>\n",
       "      <td>2017-05-26 00:23:27</td>\n",
       "      <td>2017-05-26 00:36:30</td>\n",
       "      <td>32.989318</td>\n",
       "      <td>-97.263840</td>\n",
       "      <td>32.977957</td>\n",
       "      <td>-97.183301</td>\n",
       "    </tr>\n",
       "    <tr>\n",
       "      <th>629</th>\n",
       "      <td>2017-05-26 00:26:19</td>\n",
       "      <td>2017-05-26 01:17:10</td>\n",
       "      <td>32.988956</td>\n",
       "      <td>-97.263698</td>\n",
       "      <td>33.049301</td>\n",
       "      <td>-96.716313</td>\n",
       "    </tr>\n",
       "    <tr>\n",
       "      <th>956</th>\n",
       "      <td>2017-05-26 00:35:39</td>\n",
       "      <td>2017-05-26 02:08:40</td>\n",
       "      <td>32.989253</td>\n",
       "      <td>-97.263822</td>\n",
       "      <td>32.841525</td>\n",
       "      <td>-97.068658</td>\n",
       "    </tr>\n",
       "    <tr>\n",
       "      <th>71</th>\n",
       "      <td>2017-05-26 00:59:00</td>\n",
       "      <td>2017-05-26 01:12:50</td>\n",
       "      <td>32.988943</td>\n",
       "      <td>-97.263637</td>\n",
       "      <td>32.999561</td>\n",
       "      <td>-97.205700</td>\n",
       "    </tr>\n",
       "    <tr>\n",
       "      <th>1365</th>\n",
       "      <td>2017-05-26 01:21:07</td>\n",
       "      <td>2017-05-26 01:29:29</td>\n",
       "      <td>32.988627</td>\n",
       "      <td>-97.263564</td>\n",
       "      <td>32.988645</td>\n",
       "      <td>-97.263577</td>\n",
       "    </tr>\n",
       "    <tr>\n",
       "      <th>1396</th>\n",
       "      <td>2017-05-26 01:24:59</td>\n",
       "      <td>2017-05-26 01:40:35</td>\n",
       "      <td>32.989279</td>\n",
       "      <td>-97.263845</td>\n",
       "      <td>32.952537</td>\n",
       "      <td>-97.169400</td>\n",
       "    </tr>\n",
       "    <tr>\n",
       "      <th>801</th>\n",
       "      <td>2017-05-26 01:25:23</td>\n",
       "      <td>2017-05-26 12:41:19</td>\n",
       "      <td>32.999588</td>\n",
       "      <td>-97.205706</td>\n",
       "      <td>32.993597</td>\n",
       "      <td>-97.192807</td>\n",
       "    </tr>\n",
       "    <tr>\n",
       "      <th>1281</th>\n",
       "      <td>2017-05-26 01:38:36</td>\n",
       "      <td>2017-05-26 02:08:32</td>\n",
       "      <td>32.992934</td>\n",
       "      <td>-97.258836</td>\n",
       "      <td>32.911246</td>\n",
       "      <td>-96.958073</td>\n",
       "    </tr>\n",
       "    <tr>\n",
       "      <th>256</th>\n",
       "      <td>2017-05-26 02:14:13</td>\n",
       "      <td>2017-05-26 02:18:23</td>\n",
       "      <td>32.911878</td>\n",
       "      <td>-96.958552</td>\n",
       "      <td>32.915530</td>\n",
       "      <td>-96.942624</td>\n",
       "    </tr>\n",
       "    <tr>\n",
       "      <th>66</th>\n",
       "      <td>2017-05-26 16:36:40</td>\n",
       "      <td>2017-05-26 18:57:39</td>\n",
       "      <td>32.988726</td>\n",
       "      <td>-97.263470</td>\n",
       "      <td>32.988721</td>\n",
       "      <td>-97.263595</td>\n",
       "    </tr>\n",
       "    <tr>\n",
       "      <th>1460</th>\n",
       "      <td>2017-05-26 19:17:41</td>\n",
       "      <td>2017-05-26 19:19:30</td>\n",
       "      <td>32.989280</td>\n",
       "      <td>-97.264482</td>\n",
       "      <td>32.988822</td>\n",
       "      <td>-97.263723</td>\n",
       "    </tr>\n",
       "    <tr>\n",
       "      <th>793</th>\n",
       "      <td>2017-05-26 20:11:28</td>\n",
       "      <td>2017-05-26 20:16:00</td>\n",
       "      <td>32.988590</td>\n",
       "      <td>-97.263611</td>\n",
       "      <td>32.988631</td>\n",
       "      <td>-97.263646</td>\n",
       "    </tr>\n",
       "    <tr>\n",
       "      <th>1413</th>\n",
       "      <td>2017-05-31 00:07:04</td>\n",
       "      <td>2017-05-31 00:33:01</td>\n",
       "      <td>32.988949</td>\n",
       "      <td>-97.263647</td>\n",
       "      <td>32.858774</td>\n",
       "      <td>-97.302954</td>\n",
       "    </tr>\n",
       "    <tr>\n",
       "      <th>769</th>\n",
       "      <td>2017-05-31 11:31:02</td>\n",
       "      <td>2017-05-31 13:25:53</td>\n",
       "      <td>33.049348</td>\n",
       "      <td>-96.716477</td>\n",
       "      <td>33.048977</td>\n",
       "      <td>-96.716498</td>\n",
       "    </tr>\n",
       "    <tr>\n",
       "      <th>0</th>\n",
       "      <td>2017-05-31 14:00:36</td>\n",
       "      <td>2017-05-31 14:07:38</td>\n",
       "      <td>33.049029</td>\n",
       "      <td>-96.716500</td>\n",
       "      <td>33.040753</td>\n",
       "      <td>-96.736455</td>\n",
       "    </tr>\n",
       "    <tr>\n",
       "      <th>948</th>\n",
       "      <td>2017-05-31 14:10:11</td>\n",
       "      <td>2017-05-31 15:06:01</td>\n",
       "      <td>33.040704</td>\n",
       "      <td>-96.736387</td>\n",
       "      <td>32.988983</td>\n",
       "      <td>-97.263671</td>\n",
       "    </tr>\n",
       "    <tr>\n",
       "      <th>701</th>\n",
       "      <td>2017-06-01 00:11:22</td>\n",
       "      <td>2017-06-01 00:38:47</td>\n",
       "      <td>32.989214</td>\n",
       "      <td>-97.263810</td>\n",
       "      <td>32.841445</td>\n",
       "      <td>-97.068540</td>\n",
       "    </tr>\n",
       "    <tr>\n",
       "      <th>1527</th>\n",
       "      <td>2017-06-01 13:44:54</td>\n",
       "      <td>2017-06-02 01:17:43</td>\n",
       "      <td>32.789698</td>\n",
       "      <td>-97.133493</td>\n",
       "      <td>32.841520</td>\n",
       "      <td>-97.068662</td>\n",
       "    </tr>\n",
       "    <tr>\n",
       "      <th>118</th>\n",
       "      <td>2017-06-02 14:07:44</td>\n",
       "      <td>2017-06-02 14:32:29</td>\n",
       "      <td>32.841552</td>\n",
       "      <td>-97.068303</td>\n",
       "      <td>32.988817</td>\n",
       "      <td>-97.263714</td>\n",
       "    </tr>\n",
       "    <tr>\n",
       "      <th>280</th>\n",
       "      <td>2017-06-08 02:19:02</td>\n",
       "      <td>2017-06-08 13:53:49</td>\n",
       "      <td>32.822621</td>\n",
       "      <td>-97.058403</td>\n",
       "      <td>32.847142</td>\n",
       "      <td>-97.076774</td>\n",
       "    </tr>\n",
       "    <tr>\n",
       "      <th>540</th>\n",
       "      <td>2017-06-09 00:04:53</td>\n",
       "      <td>2017-06-09 00:05:51</td>\n",
       "      <td>32.841374</td>\n",
       "      <td>-97.067877</td>\n",
       "      <td>32.841491</td>\n",
       "      <td>-97.068668</td>\n",
       "    </tr>\n",
       "    <tr>\n",
       "      <th>998</th>\n",
       "      <td>2017-06-10 00:58:05</td>\n",
       "      <td>2017-06-10 01:23:09</td>\n",
       "      <td>32.989001</td>\n",
       "      <td>-97.263582</td>\n",
       "      <td>32.841531</td>\n",
       "      <td>-97.068663</td>\n",
       "    </tr>\n",
       "  </tbody>\n",
       "</table>\n",
       "<p>1537 rows × 6 columns</p>\n",
       "</div>"
      ],
      "text/plain": [
       "          eventTimeStart        eventTimeEnd   latStart   lonStart     latEnd  \\\n",
       "162  2017-03-22 16:50:25 2017-03-22 17:14:26  38.773537  -9.168737  38.765220   \n",
       "136  2017-05-24 12:20:56 2017-05-24 12:21:02  47.409291   8.546942  47.423743   \n",
       "589  2017-05-24 12:21:08 2017-05-24 12:21:13  47.409291   8.546942  47.423743   \n",
       "1505 2017-05-24 12:21:17 2017-05-24 12:21:21  47.409291   8.546942  47.423743   \n",
       "524  2017-05-24 12:21:24 2017-05-24 12:21:31  47.409291   8.546942  47.423743   \n",
       "609  2017-05-24 12:21:32 2017-05-24 12:21:34  47.409291   8.546942  47.423743   \n",
       "1116 2017-05-24 12:21:37 2017-05-24 12:21:38  47.409291   8.546942  47.423743   \n",
       "1355 2017-05-24 12:22:08 2017-05-24 12:22:09  47.409291   8.546942  47.423743   \n",
       "1258 2017-05-24 12:22:23 2017-05-24 12:22:26  47.409291   8.546942  47.423743   \n",
       "373  2017-05-24 12:22:27 2017-05-24 12:22:32  47.409291   8.546942  47.423743   \n",
       "673  2017-05-24 12:23:17 2017-05-24 12:23:20  47.409291   8.546942  47.423743   \n",
       "674  2017-05-24 12:23:21 2017-05-24 12:23:25  47.409291   8.546942  47.423743   \n",
       "1414 2017-05-24 12:23:30 2017-05-24 12:23:31  47.409291   8.546942  47.423743   \n",
       "759  2017-05-24 12:23:38 2017-05-24 12:23:40  47.409291   8.546942  47.423743   \n",
       "1019 2017-05-24 12:23:45 2017-05-24 12:23:45  47.409291   8.546942  47.423743   \n",
       "1296 2017-05-24 12:23:46 2017-05-24 12:23:53  47.409291   8.546942  47.423743   \n",
       "569  2017-05-24 12:24:26 2017-05-24 12:24:28  47.409291   8.546942  47.423743   \n",
       "848  2017-05-24 12:24:44 2017-05-24 12:24:50  47.409291   8.546942  47.423743   \n",
       "849  2017-05-24 12:24:51 2017-05-24 12:24:53  47.409291   8.546942  47.423743   \n",
       "492  2017-05-24 12:24:56 2017-05-24 12:24:57  47.409291   8.546942  47.423743   \n",
       "1226 2017-05-24 12:25:29 2017-05-24 12:25:33  47.409291   8.546942  47.423743   \n",
       "1220 2017-05-24 12:25:45 2017-05-24 12:25:46  47.409291   8.546942  47.423743   \n",
       "968  2017-05-24 12:25:56 2017-05-24 12:25:58  47.409291   8.546942  47.423743   \n",
       "1495 2017-05-24 12:25:58 2017-05-24 12:25:59  47.409291   8.546942  47.423743   \n",
       "342  2017-05-24 12:26:37 2017-05-24 12:26:38  47.409291   8.546942  47.423743   \n",
       "1165 2017-05-24 12:26:48 2017-05-24 12:26:50  47.409291   8.546942  47.423743   \n",
       "1515 2017-05-24 12:27:04 2017-05-24 12:27:05  47.409291   8.546942  47.423743   \n",
       "5    2017-05-24 12:27:10 2017-05-24 12:27:10  47.409291   8.546942  47.423743   \n",
       "1138 2017-05-24 12:27:43 2017-05-24 12:27:49  47.409291   8.546942  47.423743   \n",
       "739  2017-05-24 12:28:09 2017-05-24 12:28:15  47.409291   8.546942  47.423743   \n",
       "...                  ...                 ...        ...        ...        ...   \n",
       "1330 2017-05-24 17:46:06 2017-05-24 17:46:06  47.409291   8.546942  47.423743   \n",
       "265  2017-05-24 17:46:36 2017-05-24 17:46:38  47.409291   8.546942  47.423743   \n",
       "1514 2017-05-24 17:46:43 2017-05-24 17:46:43  47.409291   8.546942  47.423743   \n",
       "738  2017-05-24 17:46:46 2017-05-24 17:46:57  47.409291   8.546942  47.423743   \n",
       "1494 2017-05-24 17:47:04 2017-05-24 17:47:09  47.409291   8.546942  47.423743   \n",
       "178  2017-05-24 17:47:23 2017-05-24 17:47:26  47.409291   8.546942  47.423743   \n",
       "313  2017-05-24 17:47:42 2017-05-24 17:47:48  47.409291   8.546942  47.423743   \n",
       "636  2017-05-24 17:48:02 2017-05-24 17:48:13  47.409291   8.546942  47.423743   \n",
       "52   2017-05-26 00:23:27 2017-05-26 00:36:30  32.989318 -97.263840  32.977957   \n",
       "629  2017-05-26 00:26:19 2017-05-26 01:17:10  32.988956 -97.263698  33.049301   \n",
       "956  2017-05-26 00:35:39 2017-05-26 02:08:40  32.989253 -97.263822  32.841525   \n",
       "71   2017-05-26 00:59:00 2017-05-26 01:12:50  32.988943 -97.263637  32.999561   \n",
       "1365 2017-05-26 01:21:07 2017-05-26 01:29:29  32.988627 -97.263564  32.988645   \n",
       "1396 2017-05-26 01:24:59 2017-05-26 01:40:35  32.989279 -97.263845  32.952537   \n",
       "801  2017-05-26 01:25:23 2017-05-26 12:41:19  32.999588 -97.205706  32.993597   \n",
       "1281 2017-05-26 01:38:36 2017-05-26 02:08:32  32.992934 -97.258836  32.911246   \n",
       "256  2017-05-26 02:14:13 2017-05-26 02:18:23  32.911878 -96.958552  32.915530   \n",
       "66   2017-05-26 16:36:40 2017-05-26 18:57:39  32.988726 -97.263470  32.988721   \n",
       "1460 2017-05-26 19:17:41 2017-05-26 19:19:30  32.989280 -97.264482  32.988822   \n",
       "793  2017-05-26 20:11:28 2017-05-26 20:16:00  32.988590 -97.263611  32.988631   \n",
       "1413 2017-05-31 00:07:04 2017-05-31 00:33:01  32.988949 -97.263647  32.858774   \n",
       "769  2017-05-31 11:31:02 2017-05-31 13:25:53  33.049348 -96.716477  33.048977   \n",
       "0    2017-05-31 14:00:36 2017-05-31 14:07:38  33.049029 -96.716500  33.040753   \n",
       "948  2017-05-31 14:10:11 2017-05-31 15:06:01  33.040704 -96.736387  32.988983   \n",
       "701  2017-06-01 00:11:22 2017-06-01 00:38:47  32.989214 -97.263810  32.841445   \n",
       "1527 2017-06-01 13:44:54 2017-06-02 01:17:43  32.789698 -97.133493  32.841520   \n",
       "118  2017-06-02 14:07:44 2017-06-02 14:32:29  32.841552 -97.068303  32.988817   \n",
       "280  2017-06-08 02:19:02 2017-06-08 13:53:49  32.822621 -97.058403  32.847142   \n",
       "540  2017-06-09 00:04:53 2017-06-09 00:05:51  32.841374 -97.067877  32.841491   \n",
       "998  2017-06-10 00:58:05 2017-06-10 01:23:09  32.989001 -97.263582  32.841531   \n",
       "\n",
       "         lonEnd  \n",
       "162   -9.098054  \n",
       "136    8.555213  \n",
       "589    8.555213  \n",
       "1505   8.555213  \n",
       "524    8.555213  \n",
       "609    8.555213  \n",
       "1116   8.555213  \n",
       "1355   8.555213  \n",
       "1258   8.555213  \n",
       "373    8.555213  \n",
       "673    8.555213  \n",
       "674    8.555213  \n",
       "1414   8.555213  \n",
       "759    8.555213  \n",
       "1019   8.555213  \n",
       "1296   8.555213  \n",
       "569    8.555213  \n",
       "848    8.555213  \n",
       "849    8.555213  \n",
       "492    8.555213  \n",
       "1226   8.555213  \n",
       "1220   8.555213  \n",
       "968    8.555213  \n",
       "1495   8.555213  \n",
       "342    8.555213  \n",
       "1165   8.555213  \n",
       "1515   8.555213  \n",
       "5      8.555213  \n",
       "1138   8.555213  \n",
       "739    8.555213  \n",
       "...         ...  \n",
       "1330   8.555213  \n",
       "265    8.555213  \n",
       "1514   8.555213  \n",
       "738    8.555213  \n",
       "1494   8.555213  \n",
       "178    8.555213  \n",
       "313    8.555213  \n",
       "636    8.555213  \n",
       "52   -97.183301  \n",
       "629  -96.716313  \n",
       "956  -97.068658  \n",
       "71   -97.205700  \n",
       "1365 -97.263577  \n",
       "1396 -97.169400  \n",
       "801  -97.192807  \n",
       "1281 -96.958073  \n",
       "256  -96.942624  \n",
       "66   -97.263595  \n",
       "1460 -97.263723  \n",
       "793  -97.263646  \n",
       "1413 -97.302954  \n",
       "769  -96.716498  \n",
       "0    -96.736455  \n",
       "948  -97.263671  \n",
       "701  -97.068540  \n",
       "1527 -97.068662  \n",
       "118  -97.263714  \n",
       "280  -97.076774  \n",
       "540  -97.068668  \n",
       "998  -97.068663  \n",
       "\n",
       "[1537 rows x 6 columns]"
      ]
     },
     "execution_count": 23,
     "metadata": {},
     "output_type": "execute_result"
    }
   ],
   "source": [
    "dfProcessed = dfProcessed.sort_values(\"eventTimeStart\")\n",
    "dfProcessed"
   ]
  },
  {
   "cell_type": "markdown",
   "metadata": {},
   "source": [
    "## Map visualization\n",
    "When handling geospatial data, is a good practise to visualize it in a map to find insights or avoid erroneous assumptions on the data"
   ]
  },
  {
   "cell_type": "code",
   "execution_count": 24,
   "metadata": {
    "collapsed": true
   },
   "outputs": [],
   "source": [
    "# A google maps Javascript API KEY is needed to see the maps in the notebook\n",
    "import gmaps\n",
    "gmaps.configure(api_key=os.environ[\"GOOGLE_API_KEY\"])"
   ]
  },
  {
   "cell_type": "code",
   "execution_count": 25,
   "metadata": {
    "collapsed": true
   },
   "outputs": [],
   "source": [
    "startLocs = dfProcessed[['latStart','lonStart']]\n",
    "endLocs = dfProcessed[['latEnd', 'lonEnd']]\n",
    "center_coords = (32.920782, -96.950904)"
   ]
  },
  {
   "cell_type": "markdown",
   "metadata": {},
   "source": [
    "### Starting positions visualization\n",
    "A heatmap is displayed to observe the density of the trip-start positions in a map. We can see that there are three main areas around Dallas area were the cars start their trips."
   ]
  },
  {
   "cell_type": "code",
   "execution_count": 26,
   "metadata": {},
   "outputs": [
    {
     "data": {
      "application/vnd.jupyter.widget-view+json": {
       "model_id": "2e81ae125a224a729a20a6085499fba8"
      }
     },
     "metadata": {},
     "output_type": "display_data"
    }
   ],
   "source": [
    "fig = gmaps.figure(center=center_coords, zoom_level=10)\n",
    "heatmap = gmaps.heatmap_layer(startLocs)\n",
    "heatmap.max_intensity = 2\n",
    "heatmap.point_radius = 20\n",
    "fig.add_layer(heatmap)\n",
    "fig"
   ]
  },
  {
   "cell_type": "markdown",
   "metadata": {},
   "source": [
    "### Ending positions visualization\n",
    "As with starting positions, a heatmap is displayed to observe the density of the trip-end positions in a map. Again, there three main areas were the cars end their trips, showing that they likely do a go and return trip on the same areas."
   ]
  },
  {
   "cell_type": "code",
   "execution_count": 27,
   "metadata": {},
   "outputs": [
    {
     "data": {
      "application/vnd.jupyter.widget-view+json": {
       "model_id": "58eeff3585744a4ba6b9bc0b02d3aa8e"
      }
     },
     "metadata": {},
     "output_type": "display_data"
    }
   ],
   "source": [
    "fig = gmaps.figure(center=center_coords, zoom_level=10)\n",
    "heatmap = gmaps.heatmap_layer(endLocs)\n",
    "heatmap.max_intensity = 2\n",
    "heatmap.point_radius = 20\n",
    "fig.add_layer(heatmap)\n",
    "fig"
   ]
  },
  {
   "cell_type": "markdown",
   "metadata": {},
   "source": [
    "Below, the positions markers combined are shown. trip-start are shown in green and trip-end in red"
   ]
  },
  {
   "cell_type": "code",
   "execution_count": 39,
   "metadata": {},
   "outputs": [
    {
     "data": {
      "application/vnd.jupyter.widget-view+json": {
       "model_id": "ca8bf5e040ad497985a64647bf6c3cee"
      }
     },
     "metadata": {},
     "output_type": "display_data"
    }
   ],
   "source": [
    "center_coords = (32.874843, -96.947014)\n",
    "figMarkers = gmaps.figure(center=center_coords, zoom_level=10)\n",
    "trip_start_layer = gmaps.symbol_layer(\n",
    "startLocs, fill_color=\"rgba(0, 150, 0, 0.4)\",\n",
    "stroke_color=\"rgba(0, 150, 0, 0.4)\", scale=4\n",
    ")\n",
    "trip_end_layer = gmaps.symbol_layer(\n",
    "endLocs, fill_color=\"rgba(200, 0, 0, 0.4)\",\n",
    "stroke_color=\"rgba(200, 0, 0, 0.4)\", scale=4\n",
    ")\n",
    "#trip_start_layer = gmaps.symbol_layer(startLocs, fill_color=\"green\", stroke_color=\"green\", scale=3)\n",
    "#trip_end_layer = gmaps.symbol_layer(endLocs, , stroke_color=\"red\", scale=3, fill_color=None, fill_opacity=0.6)\n",
    "figMarkers.add_layer(trip_start_layer)\n",
    "figMarkers.add_layer(trip_end_layer)\n",
    "figMarkers"
   ]
  },
  {
   "cell_type": "markdown",
   "metadata": {},
   "source": [
    "After cleansing and processing we save the processed dataset to a csv file for its later use to build the prediction model."
   ]
  },
  {
   "cell_type": "code",
   "execution_count": 29,
   "metadata": {
    "collapsed": true
   },
   "outputs": [],
   "source": [
    "dfProcessed.to_csv('processed-dataset.csv')"
   ]
  }
 ],
 "metadata": {
  "kernelspec": {
   "display_name": "Python 3 (ipykernel)",
   "language": "python",
   "name": "python3"
  },
  "language_info": {
   "codemirror_mode": {
    "name": "ipython",
    "version": 3
   },
   "file_extension": ".py",
   "mimetype": "text/x-python",
   "name": "python",
   "nbconvert_exporter": "python",
   "pygments_lexer": "ipython3",
   "version": "3.10.9"
  }
 },
 "nbformat": 4,
 "nbformat_minor": 1
}
